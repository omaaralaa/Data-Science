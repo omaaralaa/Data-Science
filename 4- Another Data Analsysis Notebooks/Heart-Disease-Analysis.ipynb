{
 "cells": [
  {
   "cell_type": "markdown",
   "id": "35e76504",
   "metadata": {},
   "source": [
    "# Name : Omar Alaa Eldein Mohamed\n",
    "# ID : 21511915\n",
    "# DR : Amani\n",
    "# Subject : TM351"
   ]
  },
  {
   "cell_type": "markdown",
   "id": "83f2c34b",
   "metadata": {},
   "source": [
    "# Q2"
   ]
  },
  {
   "cell_type": "code",
   "execution_count": 1,
   "id": "8c60ad6e",
   "metadata": {
    "ExecuteTime": {
     "end_time": "2023-11-28T19:29:47.868152Z",
     "start_time": "2023-11-28T19:29:42.913181Z"
    }
   },
   "outputs": [],
   "source": [
    "#importing libraries\n",
    "import pandas as pd\n",
    "import matplotlib.pyplot as plt\n",
    "import seaborn as sns"
   ]
  },
  {
   "cell_type": "code",
   "execution_count": 2,
   "id": "bcfe2143",
   "metadata": {
    "ExecuteTime": {
     "end_time": "2023-11-28T19:29:47.933105Z",
     "start_time": "2023-11-28T19:29:47.873164Z"
    }
   },
   "outputs": [],
   "source": [
    "lc = pd.read_csv('data/survey lung cancer.csv')"
   ]
  },
  {
   "cell_type": "code",
   "execution_count": 3,
   "id": "147b32b6",
   "metadata": {
    "ExecuteTime": {
     "end_time": "2023-11-28T19:29:48.029831Z",
     "start_time": "2023-11-28T19:29:47.940106Z"
    },
    "scrolled": true
   },
   "outputs": [
    {
     "data": {
      "text/html": [
       "<div>\n",
       "<style scoped>\n",
       "    .dataframe tbody tr th:only-of-type {\n",
       "        vertical-align: middle;\n",
       "    }\n",
       "\n",
       "    .dataframe tbody tr th {\n",
       "        vertical-align: top;\n",
       "    }\n",
       "\n",
       "    .dataframe thead th {\n",
       "        text-align: right;\n",
       "    }\n",
       "</style>\n",
       "<table border=\"1\" class=\"dataframe\">\n",
       "  <thead>\n",
       "    <tr style=\"text-align: right;\">\n",
       "      <th></th>\n",
       "      <th>GENDER</th>\n",
       "      <th>AGE</th>\n",
       "      <th>SMOKING</th>\n",
       "      <th>YELLOW_FINGERS</th>\n",
       "      <th>ANXIETY</th>\n",
       "      <th>PEER_PRESSURE</th>\n",
       "      <th>CHRONIC DISEASE</th>\n",
       "      <th>FATIGUE</th>\n",
       "      <th>ALLERGY</th>\n",
       "      <th>WHEEZING</th>\n",
       "      <th>ALCOHOL CONSUMING</th>\n",
       "      <th>COUGHING</th>\n",
       "      <th>SHORTNESS OF BREATH</th>\n",
       "      <th>SWALLOWING DIFFICULTY</th>\n",
       "      <th>CHEST PAIN</th>\n",
       "      <th>LUNG_CANCER</th>\n",
       "    </tr>\n",
       "  </thead>\n",
       "  <tbody>\n",
       "    <tr>\n",
       "      <th>0</th>\n",
       "      <td>M</td>\n",
       "      <td>69</td>\n",
       "      <td>1</td>\n",
       "      <td>2</td>\n",
       "      <td>2</td>\n",
       "      <td>1</td>\n",
       "      <td>1</td>\n",
       "      <td>2</td>\n",
       "      <td>1</td>\n",
       "      <td>2</td>\n",
       "      <td>2</td>\n",
       "      <td>2</td>\n",
       "      <td>2</td>\n",
       "      <td>2</td>\n",
       "      <td>2</td>\n",
       "      <td>YES</td>\n",
       "    </tr>\n",
       "    <tr>\n",
       "      <th>1</th>\n",
       "      <td>M</td>\n",
       "      <td>74</td>\n",
       "      <td>2</td>\n",
       "      <td>1</td>\n",
       "      <td>1</td>\n",
       "      <td>1</td>\n",
       "      <td>2</td>\n",
       "      <td>2</td>\n",
       "      <td>2</td>\n",
       "      <td>1</td>\n",
       "      <td>1</td>\n",
       "      <td>1</td>\n",
       "      <td>2</td>\n",
       "      <td>2</td>\n",
       "      <td>2</td>\n",
       "      <td>YES</td>\n",
       "    </tr>\n",
       "    <tr>\n",
       "      <th>2</th>\n",
       "      <td>F</td>\n",
       "      <td>59</td>\n",
       "      <td>1</td>\n",
       "      <td>1</td>\n",
       "      <td>1</td>\n",
       "      <td>2</td>\n",
       "      <td>1</td>\n",
       "      <td>2</td>\n",
       "      <td>1</td>\n",
       "      <td>2</td>\n",
       "      <td>1</td>\n",
       "      <td>2</td>\n",
       "      <td>2</td>\n",
       "      <td>1</td>\n",
       "      <td>2</td>\n",
       "      <td>NO</td>\n",
       "    </tr>\n",
       "    <tr>\n",
       "      <th>3</th>\n",
       "      <td>M</td>\n",
       "      <td>63</td>\n",
       "      <td>2</td>\n",
       "      <td>2</td>\n",
       "      <td>2</td>\n",
       "      <td>1</td>\n",
       "      <td>1</td>\n",
       "      <td>1</td>\n",
       "      <td>1</td>\n",
       "      <td>1</td>\n",
       "      <td>2</td>\n",
       "      <td>1</td>\n",
       "      <td>1</td>\n",
       "      <td>2</td>\n",
       "      <td>2</td>\n",
       "      <td>NO</td>\n",
       "    </tr>\n",
       "    <tr>\n",
       "      <th>4</th>\n",
       "      <td>F</td>\n",
       "      <td>63</td>\n",
       "      <td>1</td>\n",
       "      <td>2</td>\n",
       "      <td>1</td>\n",
       "      <td>1</td>\n",
       "      <td>1</td>\n",
       "      <td>1</td>\n",
       "      <td>1</td>\n",
       "      <td>2</td>\n",
       "      <td>1</td>\n",
       "      <td>2</td>\n",
       "      <td>2</td>\n",
       "      <td>1</td>\n",
       "      <td>1</td>\n",
       "      <td>NO</td>\n",
       "    </tr>\n",
       "    <tr>\n",
       "      <th>...</th>\n",
       "      <td>...</td>\n",
       "      <td>...</td>\n",
       "      <td>...</td>\n",
       "      <td>...</td>\n",
       "      <td>...</td>\n",
       "      <td>...</td>\n",
       "      <td>...</td>\n",
       "      <td>...</td>\n",
       "      <td>...</td>\n",
       "      <td>...</td>\n",
       "      <td>...</td>\n",
       "      <td>...</td>\n",
       "      <td>...</td>\n",
       "      <td>...</td>\n",
       "      <td>...</td>\n",
       "      <td>...</td>\n",
       "    </tr>\n",
       "    <tr>\n",
       "      <th>304</th>\n",
       "      <td>F</td>\n",
       "      <td>56</td>\n",
       "      <td>1</td>\n",
       "      <td>1</td>\n",
       "      <td>1</td>\n",
       "      <td>2</td>\n",
       "      <td>2</td>\n",
       "      <td>2</td>\n",
       "      <td>1</td>\n",
       "      <td>1</td>\n",
       "      <td>2</td>\n",
       "      <td>2</td>\n",
       "      <td>2</td>\n",
       "      <td>2</td>\n",
       "      <td>1</td>\n",
       "      <td>YES</td>\n",
       "    </tr>\n",
       "    <tr>\n",
       "      <th>305</th>\n",
       "      <td>M</td>\n",
       "      <td>70</td>\n",
       "      <td>2</td>\n",
       "      <td>1</td>\n",
       "      <td>1</td>\n",
       "      <td>1</td>\n",
       "      <td>1</td>\n",
       "      <td>2</td>\n",
       "      <td>2</td>\n",
       "      <td>2</td>\n",
       "      <td>2</td>\n",
       "      <td>2</td>\n",
       "      <td>2</td>\n",
       "      <td>1</td>\n",
       "      <td>2</td>\n",
       "      <td>YES</td>\n",
       "    </tr>\n",
       "    <tr>\n",
       "      <th>306</th>\n",
       "      <td>M</td>\n",
       "      <td>58</td>\n",
       "      <td>2</td>\n",
       "      <td>1</td>\n",
       "      <td>1</td>\n",
       "      <td>1</td>\n",
       "      <td>1</td>\n",
       "      <td>1</td>\n",
       "      <td>2</td>\n",
       "      <td>2</td>\n",
       "      <td>2</td>\n",
       "      <td>2</td>\n",
       "      <td>1</td>\n",
       "      <td>1</td>\n",
       "      <td>2</td>\n",
       "      <td>YES</td>\n",
       "    </tr>\n",
       "    <tr>\n",
       "      <th>307</th>\n",
       "      <td>M</td>\n",
       "      <td>67</td>\n",
       "      <td>2</td>\n",
       "      <td>1</td>\n",
       "      <td>2</td>\n",
       "      <td>1</td>\n",
       "      <td>1</td>\n",
       "      <td>2</td>\n",
       "      <td>2</td>\n",
       "      <td>1</td>\n",
       "      <td>2</td>\n",
       "      <td>2</td>\n",
       "      <td>2</td>\n",
       "      <td>1</td>\n",
       "      <td>2</td>\n",
       "      <td>YES</td>\n",
       "    </tr>\n",
       "    <tr>\n",
       "      <th>308</th>\n",
       "      <td>M</td>\n",
       "      <td>62</td>\n",
       "      <td>1</td>\n",
       "      <td>1</td>\n",
       "      <td>1</td>\n",
       "      <td>2</td>\n",
       "      <td>1</td>\n",
       "      <td>2</td>\n",
       "      <td>2</td>\n",
       "      <td>2</td>\n",
       "      <td>2</td>\n",
       "      <td>1</td>\n",
       "      <td>1</td>\n",
       "      <td>2</td>\n",
       "      <td>1</td>\n",
       "      <td>YES</td>\n",
       "    </tr>\n",
       "  </tbody>\n",
       "</table>\n",
       "<p>309 rows × 16 columns</p>\n",
       "</div>"
      ],
      "text/plain": [
       "    GENDER  AGE  SMOKING  YELLOW_FINGERS  ANXIETY  PEER_PRESSURE  \\\n",
       "0        M   69        1               2        2              1   \n",
       "1        M   74        2               1        1              1   \n",
       "2        F   59        1               1        1              2   \n",
       "3        M   63        2               2        2              1   \n",
       "4        F   63        1               2        1              1   \n",
       "..     ...  ...      ...             ...      ...            ...   \n",
       "304      F   56        1               1        1              2   \n",
       "305      M   70        2               1        1              1   \n",
       "306      M   58        2               1        1              1   \n",
       "307      M   67        2               1        2              1   \n",
       "308      M   62        1               1        1              2   \n",
       "\n",
       "     CHRONIC DISEASE  FATIGUE   ALLERGY   WHEEZING  ALCOHOL CONSUMING  \\\n",
       "0                  1         2         1         2                  2   \n",
       "1                  2         2         2         1                  1   \n",
       "2                  1         2         1         2                  1   \n",
       "3                  1         1         1         1                  2   \n",
       "4                  1         1         1         2                  1   \n",
       "..               ...       ...       ...       ...                ...   \n",
       "304                2         2         1         1                  2   \n",
       "305                1         2         2         2                  2   \n",
       "306                1         1         2         2                  2   \n",
       "307                1         2         2         1                  2   \n",
       "308                1         2         2         2                  2   \n",
       "\n",
       "     COUGHING  SHORTNESS OF BREATH  SWALLOWING DIFFICULTY  CHEST PAIN  \\\n",
       "0           2                    2                      2           2   \n",
       "1           1                    2                      2           2   \n",
       "2           2                    2                      1           2   \n",
       "3           1                    1                      2           2   \n",
       "4           2                    2                      1           1   \n",
       "..        ...                  ...                    ...         ...   \n",
       "304         2                    2                      2           1   \n",
       "305         2                    2                      1           2   \n",
       "306         2                    1                      1           2   \n",
       "307         2                    2                      1           2   \n",
       "308         1                    1                      2           1   \n",
       "\n",
       "    LUNG_CANCER  \n",
       "0           YES  \n",
       "1           YES  \n",
       "2            NO  \n",
       "3            NO  \n",
       "4            NO  \n",
       "..          ...  \n",
       "304         YES  \n",
       "305         YES  \n",
       "306         YES  \n",
       "307         YES  \n",
       "308         YES  \n",
       "\n",
       "[309 rows x 16 columns]"
      ]
     },
     "execution_count": 3,
     "metadata": {},
     "output_type": "execute_result"
    }
   ],
   "source": [
    "lc"
   ]
  },
  {
   "cell_type": "code",
   "execution_count": 4,
   "id": "61b91ce0",
   "metadata": {
    "ExecuteTime": {
     "end_time": "2023-11-28T19:29:48.048665Z",
     "start_time": "2023-11-28T19:29:48.035846Z"
    }
   },
   "outputs": [
    {
     "data": {
      "text/plain": [
       "['GENDER',\n",
       " 'AGE',\n",
       " 'SMOKING',\n",
       " 'YELLOW_FINGERS',\n",
       " 'ANXIETY',\n",
       " 'PEER_PRESSURE',\n",
       " 'CHRONIC DISEASE',\n",
       " 'FATIGUE ',\n",
       " 'ALLERGY ',\n",
       " 'WHEEZING',\n",
       " 'ALCOHOL CONSUMING',\n",
       " 'COUGHING',\n",
       " 'SHORTNESS OF BREATH',\n",
       " 'SWALLOWING DIFFICULTY',\n",
       " 'CHEST PAIN',\n",
       " 'LUNG_CANCER']"
      ]
     },
     "execution_count": 4,
     "metadata": {},
     "output_type": "execute_result"
    }
   ],
   "source": [
    "lc.columns.to_list()"
   ]
  },
  {
   "cell_type": "markdown",
   "id": "17b9afd9",
   "metadata": {},
   "source": [
    "### Check validity (values allowed to the column), accuracy and uniformity"
   ]
  },
  {
   "cell_type": "code",
   "execution_count": 5,
   "id": "58fcada8",
   "metadata": {
    "ExecuteTime": {
     "end_time": "2023-11-28T19:29:48.094808Z",
     "start_time": "2023-11-28T19:29:48.055667Z"
    }
   },
   "outputs": [
    {
     "name": "stdout",
     "output_type": "stream",
     "text": [
      "Values of GENDER:  ['M' 'F']\n",
      "Values of AGE:  [69 74 59 63 75 52 51 68 53 61 72 60 58 48 57 44 64 21 65 55 62 56 67 77\n",
      " 70 54 49 73 47 71 66 76 78 81 79 38 39 87 46]\n",
      "Values of SMOKING:  [1 2]\n",
      "Values of YELLOW_FINGERS:  [2 1]\n",
      "Values of ANXIETY:  [2 1]\n",
      "Values of PEER_PRESSURE:  [1 2]\n",
      "Values of CHRONIC DISEASE:  [1 2]\n",
      "Values of FATIGUE:  [2 1]\n",
      "Values of ALLERGY:  [1 2]\n",
      "Values of WHEEZING:  [2 1]\n",
      "Values of ALCOHOL CONSUMING:  [2 1]\n",
      "Values of COUGHING:  [2 1]\n",
      "Values of SHORTNESS OF BREATH:  [2 1]\n",
      "Values of SWALLOWING DIFFICULTY:  [2 1]\n",
      "Values of CHEST PAIN:  [2 1]\n",
      "Values of LUNG_CANCER:  ['YES' 'NO']\n"
     ]
    }
   ],
   "source": [
    "print('Values of GENDER: ',lc.GENDER.unique())\n",
    "print('Values of AGE: ',lc.AGE.unique())\n",
    "print('Values of SMOKING: ',lc.SMOKING.unique())\n",
    "print('Values of YELLOW_FINGERS: ',lc.YELLOW_FINGERS.unique())\n",
    "print('Values of ANXIETY: ',lc.ANXIETY.unique())\n",
    "print('Values of PEER_PRESSURE: ',lc.PEER_PRESSURE.unique())\n",
    "print('Values of CHRONIC DISEASE: ',lc['CHRONIC DISEASE'].unique())\n",
    "print('Values of FATIGUE: ',lc['FATIGUE '].unique())\n",
    "print('Values of ALLERGY: ',lc['ALLERGY '].unique())\n",
    "print('Values of WHEEZING: ',lc.WHEEZING.unique())\n",
    "print('Values of ALCOHOL CONSUMING: ',lc['ALCOHOL CONSUMING'].unique())\n",
    "print('Values of COUGHING: ',lc.COUGHING.unique())\n",
    "print('Values of SHORTNESS OF BREATH: ',lc['SHORTNESS OF BREATH'].unique())\n",
    "print('Values of SWALLOWING DIFFICULTY: ',lc['SWALLOWING DIFFICULTY'].unique())\n",
    "print('Values of CHEST PAIN: ',lc['CHEST PAIN'].unique())\n",
    "print('Values of LUNG_CANCER: ',lc['LUNG_CANCER'].unique())\n",
    "\n",
    "\n",
    "\n",
    "\n"
   ]
  },
  {
   "cell_type": "markdown",
   "id": "f33befae",
   "metadata": {},
   "source": [
    "### Check Completness"
   ]
  },
  {
   "cell_type": "code",
   "execution_count": 6,
   "id": "59e814f4",
   "metadata": {
    "ExecuteTime": {
     "end_time": "2023-11-28T19:29:48.166517Z",
     "start_time": "2023-11-28T19:29:48.110805Z"
    }
   },
   "outputs": [
    {
     "data": {
      "text/plain": [
       "GENDER                   0\n",
       "AGE                      0\n",
       "SMOKING                  0\n",
       "YELLOW_FINGERS           0\n",
       "ANXIETY                  0\n",
       "PEER_PRESSURE            0\n",
       "CHRONIC DISEASE          0\n",
       "FATIGUE                  0\n",
       "ALLERGY                  0\n",
       "WHEEZING                 0\n",
       "ALCOHOL CONSUMING        0\n",
       "COUGHING                 0\n",
       "SHORTNESS OF BREATH      0\n",
       "SWALLOWING DIFFICULTY    0\n",
       "CHEST PAIN               0\n",
       "LUNG_CANCER              0\n",
       "dtype: int64"
      ]
     },
     "execution_count": 6,
     "metadata": {},
     "output_type": "execute_result"
    }
   ],
   "source": [
    "lc.isna().sum()"
   ]
  },
  {
   "cell_type": "markdown",
   "id": "b0d9379e",
   "metadata": {},
   "source": [
    "### Check duplicated data for checking consistency"
   ]
  },
  {
   "cell_type": "code",
   "execution_count": 7,
   "id": "392783ff",
   "metadata": {
    "ExecuteTime": {
     "end_time": "2023-11-28T19:29:48.250273Z",
     "start_time": "2023-11-28T19:29:48.173518Z"
    },
    "scrolled": true
   },
   "outputs": [
    {
     "data": {
      "text/html": [
       "<div>\n",
       "<style scoped>\n",
       "    .dataframe tbody tr th:only-of-type {\n",
       "        vertical-align: middle;\n",
       "    }\n",
       "\n",
       "    .dataframe tbody tr th {\n",
       "        vertical-align: top;\n",
       "    }\n",
       "\n",
       "    .dataframe thead th {\n",
       "        text-align: right;\n",
       "    }\n",
       "</style>\n",
       "<table border=\"1\" class=\"dataframe\">\n",
       "  <thead>\n",
       "    <tr style=\"text-align: right;\">\n",
       "      <th></th>\n",
       "      <th>GENDER</th>\n",
       "      <th>AGE</th>\n",
       "      <th>SMOKING</th>\n",
       "      <th>YELLOW_FINGERS</th>\n",
       "      <th>ANXIETY</th>\n",
       "      <th>PEER_PRESSURE</th>\n",
       "      <th>CHRONIC DISEASE</th>\n",
       "      <th>FATIGUE</th>\n",
       "      <th>ALLERGY</th>\n",
       "      <th>WHEEZING</th>\n",
       "      <th>ALCOHOL CONSUMING</th>\n",
       "      <th>COUGHING</th>\n",
       "      <th>SHORTNESS OF BREATH</th>\n",
       "      <th>SWALLOWING DIFFICULTY</th>\n",
       "      <th>CHEST PAIN</th>\n",
       "      <th>LUNG_CANCER</th>\n",
       "    </tr>\n",
       "  </thead>\n",
       "  <tbody>\n",
       "    <tr>\n",
       "      <th>99</th>\n",
       "      <td>M</td>\n",
       "      <td>56</td>\n",
       "      <td>2</td>\n",
       "      <td>1</td>\n",
       "      <td>1</td>\n",
       "      <td>1</td>\n",
       "      <td>1</td>\n",
       "      <td>2</td>\n",
       "      <td>2</td>\n",
       "      <td>2</td>\n",
       "      <td>2</td>\n",
       "      <td>2</td>\n",
       "      <td>2</td>\n",
       "      <td>1</td>\n",
       "      <td>2</td>\n",
       "      <td>YES</td>\n",
       "    </tr>\n",
       "    <tr>\n",
       "      <th>100</th>\n",
       "      <td>M</td>\n",
       "      <td>58</td>\n",
       "      <td>2</td>\n",
       "      <td>1</td>\n",
       "      <td>1</td>\n",
       "      <td>1</td>\n",
       "      <td>1</td>\n",
       "      <td>1</td>\n",
       "      <td>2</td>\n",
       "      <td>2</td>\n",
       "      <td>2</td>\n",
       "      <td>2</td>\n",
       "      <td>1</td>\n",
       "      <td>1</td>\n",
       "      <td>1</td>\n",
       "      <td>YES</td>\n",
       "    </tr>\n",
       "    <tr>\n",
       "      <th>117</th>\n",
       "      <td>F</td>\n",
       "      <td>51</td>\n",
       "      <td>2</td>\n",
       "      <td>2</td>\n",
       "      <td>2</td>\n",
       "      <td>2</td>\n",
       "      <td>1</td>\n",
       "      <td>2</td>\n",
       "      <td>2</td>\n",
       "      <td>1</td>\n",
       "      <td>1</td>\n",
       "      <td>1</td>\n",
       "      <td>2</td>\n",
       "      <td>2</td>\n",
       "      <td>1</td>\n",
       "      <td>YES</td>\n",
       "    </tr>\n",
       "    <tr>\n",
       "      <th>199</th>\n",
       "      <td>F</td>\n",
       "      <td>55</td>\n",
       "      <td>2</td>\n",
       "      <td>1</td>\n",
       "      <td>1</td>\n",
       "      <td>2</td>\n",
       "      <td>2</td>\n",
       "      <td>2</td>\n",
       "      <td>2</td>\n",
       "      <td>2</td>\n",
       "      <td>2</td>\n",
       "      <td>1</td>\n",
       "      <td>1</td>\n",
       "      <td>2</td>\n",
       "      <td>2</td>\n",
       "      <td>YES</td>\n",
       "    </tr>\n",
       "    <tr>\n",
       "      <th>212</th>\n",
       "      <td>M</td>\n",
       "      <td>58</td>\n",
       "      <td>2</td>\n",
       "      <td>1</td>\n",
       "      <td>1</td>\n",
       "      <td>1</td>\n",
       "      <td>1</td>\n",
       "      <td>2</td>\n",
       "      <td>2</td>\n",
       "      <td>2</td>\n",
       "      <td>2</td>\n",
       "      <td>2</td>\n",
       "      <td>2</td>\n",
       "      <td>1</td>\n",
       "      <td>2</td>\n",
       "      <td>YES</td>\n",
       "    </tr>\n",
       "    <tr>\n",
       "      <th>223</th>\n",
       "      <td>M</td>\n",
       "      <td>63</td>\n",
       "      <td>2</td>\n",
       "      <td>2</td>\n",
       "      <td>2</td>\n",
       "      <td>1</td>\n",
       "      <td>2</td>\n",
       "      <td>2</td>\n",
       "      <td>2</td>\n",
       "      <td>2</td>\n",
       "      <td>1</td>\n",
       "      <td>1</td>\n",
       "      <td>2</td>\n",
       "      <td>1</td>\n",
       "      <td>1</td>\n",
       "      <td>YES</td>\n",
       "    </tr>\n",
       "    <tr>\n",
       "      <th>256</th>\n",
       "      <td>M</td>\n",
       "      <td>60</td>\n",
       "      <td>2</td>\n",
       "      <td>1</td>\n",
       "      <td>1</td>\n",
       "      <td>1</td>\n",
       "      <td>1</td>\n",
       "      <td>2</td>\n",
       "      <td>2</td>\n",
       "      <td>2</td>\n",
       "      <td>2</td>\n",
       "      <td>2</td>\n",
       "      <td>2</td>\n",
       "      <td>1</td>\n",
       "      <td>2</td>\n",
       "      <td>YES</td>\n",
       "    </tr>\n",
       "    <tr>\n",
       "      <th>275</th>\n",
       "      <td>M</td>\n",
       "      <td>64</td>\n",
       "      <td>2</td>\n",
       "      <td>2</td>\n",
       "      <td>2</td>\n",
       "      <td>2</td>\n",
       "      <td>2</td>\n",
       "      <td>1</td>\n",
       "      <td>1</td>\n",
       "      <td>1</td>\n",
       "      <td>2</td>\n",
       "      <td>1</td>\n",
       "      <td>1</td>\n",
       "      <td>2</td>\n",
       "      <td>2</td>\n",
       "      <td>YES</td>\n",
       "    </tr>\n",
       "    <tr>\n",
       "      <th>284</th>\n",
       "      <td>M</td>\n",
       "      <td>58</td>\n",
       "      <td>2</td>\n",
       "      <td>2</td>\n",
       "      <td>2</td>\n",
       "      <td>2</td>\n",
       "      <td>2</td>\n",
       "      <td>1</td>\n",
       "      <td>1</td>\n",
       "      <td>1</td>\n",
       "      <td>2</td>\n",
       "      <td>1</td>\n",
       "      <td>1</td>\n",
       "      <td>2</td>\n",
       "      <td>2</td>\n",
       "      <td>YES</td>\n",
       "    </tr>\n",
       "    <tr>\n",
       "      <th>285</th>\n",
       "      <td>F</td>\n",
       "      <td>58</td>\n",
       "      <td>2</td>\n",
       "      <td>2</td>\n",
       "      <td>2</td>\n",
       "      <td>2</td>\n",
       "      <td>1</td>\n",
       "      <td>2</td>\n",
       "      <td>1</td>\n",
       "      <td>1</td>\n",
       "      <td>1</td>\n",
       "      <td>2</td>\n",
       "      <td>2</td>\n",
       "      <td>2</td>\n",
       "      <td>1</td>\n",
       "      <td>YES</td>\n",
       "    </tr>\n",
       "    <tr>\n",
       "      <th>286</th>\n",
       "      <td>F</td>\n",
       "      <td>63</td>\n",
       "      <td>1</td>\n",
       "      <td>1</td>\n",
       "      <td>1</td>\n",
       "      <td>1</td>\n",
       "      <td>2</td>\n",
       "      <td>2</td>\n",
       "      <td>1</td>\n",
       "      <td>1</td>\n",
       "      <td>1</td>\n",
       "      <td>1</td>\n",
       "      <td>2</td>\n",
       "      <td>1</td>\n",
       "      <td>1</td>\n",
       "      <td>NO</td>\n",
       "    </tr>\n",
       "    <tr>\n",
       "      <th>287</th>\n",
       "      <td>F</td>\n",
       "      <td>51</td>\n",
       "      <td>2</td>\n",
       "      <td>2</td>\n",
       "      <td>2</td>\n",
       "      <td>2</td>\n",
       "      <td>1</td>\n",
       "      <td>2</td>\n",
       "      <td>1</td>\n",
       "      <td>1</td>\n",
       "      <td>1</td>\n",
       "      <td>1</td>\n",
       "      <td>2</td>\n",
       "      <td>2</td>\n",
       "      <td>1</td>\n",
       "      <td>YES</td>\n",
       "    </tr>\n",
       "    <tr>\n",
       "      <th>288</th>\n",
       "      <td>F</td>\n",
       "      <td>61</td>\n",
       "      <td>1</td>\n",
       "      <td>2</td>\n",
       "      <td>2</td>\n",
       "      <td>2</td>\n",
       "      <td>1</td>\n",
       "      <td>1</td>\n",
       "      <td>2</td>\n",
       "      <td>2</td>\n",
       "      <td>1</td>\n",
       "      <td>2</td>\n",
       "      <td>1</td>\n",
       "      <td>2</td>\n",
       "      <td>1</td>\n",
       "      <td>YES</td>\n",
       "    </tr>\n",
       "    <tr>\n",
       "      <th>289</th>\n",
       "      <td>F</td>\n",
       "      <td>61</td>\n",
       "      <td>2</td>\n",
       "      <td>1</td>\n",
       "      <td>1</td>\n",
       "      <td>1</td>\n",
       "      <td>2</td>\n",
       "      <td>2</td>\n",
       "      <td>2</td>\n",
       "      <td>1</td>\n",
       "      <td>1</td>\n",
       "      <td>1</td>\n",
       "      <td>2</td>\n",
       "      <td>1</td>\n",
       "      <td>1</td>\n",
       "      <td>YES</td>\n",
       "    </tr>\n",
       "    <tr>\n",
       "      <th>290</th>\n",
       "      <td>M</td>\n",
       "      <td>76</td>\n",
       "      <td>2</td>\n",
       "      <td>1</td>\n",
       "      <td>1</td>\n",
       "      <td>1</td>\n",
       "      <td>1</td>\n",
       "      <td>2</td>\n",
       "      <td>2</td>\n",
       "      <td>2</td>\n",
       "      <td>2</td>\n",
       "      <td>2</td>\n",
       "      <td>2</td>\n",
       "      <td>1</td>\n",
       "      <td>2</td>\n",
       "      <td>YES</td>\n",
       "    </tr>\n",
       "    <tr>\n",
       "      <th>291</th>\n",
       "      <td>M</td>\n",
       "      <td>71</td>\n",
       "      <td>2</td>\n",
       "      <td>2</td>\n",
       "      <td>2</td>\n",
       "      <td>1</td>\n",
       "      <td>2</td>\n",
       "      <td>1</td>\n",
       "      <td>2</td>\n",
       "      <td>2</td>\n",
       "      <td>2</td>\n",
       "      <td>2</td>\n",
       "      <td>1</td>\n",
       "      <td>2</td>\n",
       "      <td>2</td>\n",
       "      <td>YES</td>\n",
       "    </tr>\n",
       "    <tr>\n",
       "      <th>292</th>\n",
       "      <td>M</td>\n",
       "      <td>69</td>\n",
       "      <td>1</td>\n",
       "      <td>1</td>\n",
       "      <td>2</td>\n",
       "      <td>1</td>\n",
       "      <td>1</td>\n",
       "      <td>2</td>\n",
       "      <td>1</td>\n",
       "      <td>2</td>\n",
       "      <td>2</td>\n",
       "      <td>2</td>\n",
       "      <td>2</td>\n",
       "      <td>2</td>\n",
       "      <td>1</td>\n",
       "      <td>YES</td>\n",
       "    </tr>\n",
       "    <tr>\n",
       "      <th>293</th>\n",
       "      <td>F</td>\n",
       "      <td>56</td>\n",
       "      <td>2</td>\n",
       "      <td>2</td>\n",
       "      <td>2</td>\n",
       "      <td>1</td>\n",
       "      <td>1</td>\n",
       "      <td>2</td>\n",
       "      <td>2</td>\n",
       "      <td>1</td>\n",
       "      <td>1</td>\n",
       "      <td>1</td>\n",
       "      <td>2</td>\n",
       "      <td>1</td>\n",
       "      <td>2</td>\n",
       "      <td>YES</td>\n",
       "    </tr>\n",
       "    <tr>\n",
       "      <th>294</th>\n",
       "      <td>M</td>\n",
       "      <td>67</td>\n",
       "      <td>1</td>\n",
       "      <td>1</td>\n",
       "      <td>1</td>\n",
       "      <td>2</td>\n",
       "      <td>1</td>\n",
       "      <td>2</td>\n",
       "      <td>1</td>\n",
       "      <td>2</td>\n",
       "      <td>1</td>\n",
       "      <td>2</td>\n",
       "      <td>2</td>\n",
       "      <td>1</td>\n",
       "      <td>2</td>\n",
       "      <td>YES</td>\n",
       "    </tr>\n",
       "    <tr>\n",
       "      <th>295</th>\n",
       "      <td>F</td>\n",
       "      <td>54</td>\n",
       "      <td>2</td>\n",
       "      <td>2</td>\n",
       "      <td>2</td>\n",
       "      <td>1</td>\n",
       "      <td>2</td>\n",
       "      <td>1</td>\n",
       "      <td>1</td>\n",
       "      <td>2</td>\n",
       "      <td>2</td>\n",
       "      <td>1</td>\n",
       "      <td>2</td>\n",
       "      <td>2</td>\n",
       "      <td>2</td>\n",
       "      <td>YES</td>\n",
       "    </tr>\n",
       "    <tr>\n",
       "      <th>296</th>\n",
       "      <td>M</td>\n",
       "      <td>63</td>\n",
       "      <td>1</td>\n",
       "      <td>2</td>\n",
       "      <td>1</td>\n",
       "      <td>1</td>\n",
       "      <td>1</td>\n",
       "      <td>2</td>\n",
       "      <td>1</td>\n",
       "      <td>2</td>\n",
       "      <td>2</td>\n",
       "      <td>2</td>\n",
       "      <td>2</td>\n",
       "      <td>1</td>\n",
       "      <td>1</td>\n",
       "      <td>YES</td>\n",
       "    </tr>\n",
       "    <tr>\n",
       "      <th>297</th>\n",
       "      <td>F</td>\n",
       "      <td>47</td>\n",
       "      <td>2</td>\n",
       "      <td>2</td>\n",
       "      <td>1</td>\n",
       "      <td>2</td>\n",
       "      <td>2</td>\n",
       "      <td>2</td>\n",
       "      <td>2</td>\n",
       "      <td>2</td>\n",
       "      <td>1</td>\n",
       "      <td>2</td>\n",
       "      <td>2</td>\n",
       "      <td>1</td>\n",
       "      <td>1</td>\n",
       "      <td>YES</td>\n",
       "    </tr>\n",
       "    <tr>\n",
       "      <th>298</th>\n",
       "      <td>M</td>\n",
       "      <td>62</td>\n",
       "      <td>2</td>\n",
       "      <td>1</td>\n",
       "      <td>2</td>\n",
       "      <td>1</td>\n",
       "      <td>1</td>\n",
       "      <td>2</td>\n",
       "      <td>1</td>\n",
       "      <td>2</td>\n",
       "      <td>2</td>\n",
       "      <td>2</td>\n",
       "      <td>2</td>\n",
       "      <td>1</td>\n",
       "      <td>2</td>\n",
       "      <td>YES</td>\n",
       "    </tr>\n",
       "    <tr>\n",
       "      <th>299</th>\n",
       "      <td>M</td>\n",
       "      <td>65</td>\n",
       "      <td>2</td>\n",
       "      <td>2</td>\n",
       "      <td>2</td>\n",
       "      <td>2</td>\n",
       "      <td>1</td>\n",
       "      <td>2</td>\n",
       "      <td>2</td>\n",
       "      <td>1</td>\n",
       "      <td>1</td>\n",
       "      <td>1</td>\n",
       "      <td>2</td>\n",
       "      <td>2</td>\n",
       "      <td>1</td>\n",
       "      <td>YES</td>\n",
       "    </tr>\n",
       "    <tr>\n",
       "      <th>300</th>\n",
       "      <td>F</td>\n",
       "      <td>63</td>\n",
       "      <td>2</td>\n",
       "      <td>2</td>\n",
       "      <td>2</td>\n",
       "      <td>2</td>\n",
       "      <td>2</td>\n",
       "      <td>2</td>\n",
       "      <td>2</td>\n",
       "      <td>2</td>\n",
       "      <td>1</td>\n",
       "      <td>2</td>\n",
       "      <td>2</td>\n",
       "      <td>2</td>\n",
       "      <td>2</td>\n",
       "      <td>YES</td>\n",
       "    </tr>\n",
       "    <tr>\n",
       "      <th>301</th>\n",
       "      <td>M</td>\n",
       "      <td>64</td>\n",
       "      <td>1</td>\n",
       "      <td>2</td>\n",
       "      <td>2</td>\n",
       "      <td>2</td>\n",
       "      <td>1</td>\n",
       "      <td>1</td>\n",
       "      <td>2</td>\n",
       "      <td>1</td>\n",
       "      <td>2</td>\n",
       "      <td>1</td>\n",
       "      <td>1</td>\n",
       "      <td>2</td>\n",
       "      <td>2</td>\n",
       "      <td>YES</td>\n",
       "    </tr>\n",
       "    <tr>\n",
       "      <th>302</th>\n",
       "      <td>F</td>\n",
       "      <td>65</td>\n",
       "      <td>2</td>\n",
       "      <td>2</td>\n",
       "      <td>2</td>\n",
       "      <td>2</td>\n",
       "      <td>1</td>\n",
       "      <td>2</td>\n",
       "      <td>1</td>\n",
       "      <td>2</td>\n",
       "      <td>1</td>\n",
       "      <td>2</td>\n",
       "      <td>2</td>\n",
       "      <td>2</td>\n",
       "      <td>1</td>\n",
       "      <td>YES</td>\n",
       "    </tr>\n",
       "    <tr>\n",
       "      <th>303</th>\n",
       "      <td>M</td>\n",
       "      <td>51</td>\n",
       "      <td>1</td>\n",
       "      <td>2</td>\n",
       "      <td>1</td>\n",
       "      <td>1</td>\n",
       "      <td>2</td>\n",
       "      <td>2</td>\n",
       "      <td>2</td>\n",
       "      <td>2</td>\n",
       "      <td>2</td>\n",
       "      <td>2</td>\n",
       "      <td>2</td>\n",
       "      <td>1</td>\n",
       "      <td>2</td>\n",
       "      <td>YES</td>\n",
       "    </tr>\n",
       "    <tr>\n",
       "      <th>304</th>\n",
       "      <td>F</td>\n",
       "      <td>56</td>\n",
       "      <td>1</td>\n",
       "      <td>1</td>\n",
       "      <td>1</td>\n",
       "      <td>2</td>\n",
       "      <td>2</td>\n",
       "      <td>2</td>\n",
       "      <td>1</td>\n",
       "      <td>1</td>\n",
       "      <td>2</td>\n",
       "      <td>2</td>\n",
       "      <td>2</td>\n",
       "      <td>2</td>\n",
       "      <td>1</td>\n",
       "      <td>YES</td>\n",
       "    </tr>\n",
       "    <tr>\n",
       "      <th>305</th>\n",
       "      <td>M</td>\n",
       "      <td>70</td>\n",
       "      <td>2</td>\n",
       "      <td>1</td>\n",
       "      <td>1</td>\n",
       "      <td>1</td>\n",
       "      <td>1</td>\n",
       "      <td>2</td>\n",
       "      <td>2</td>\n",
       "      <td>2</td>\n",
       "      <td>2</td>\n",
       "      <td>2</td>\n",
       "      <td>2</td>\n",
       "      <td>1</td>\n",
       "      <td>2</td>\n",
       "      <td>YES</td>\n",
       "    </tr>\n",
       "    <tr>\n",
       "      <th>306</th>\n",
       "      <td>M</td>\n",
       "      <td>58</td>\n",
       "      <td>2</td>\n",
       "      <td>1</td>\n",
       "      <td>1</td>\n",
       "      <td>1</td>\n",
       "      <td>1</td>\n",
       "      <td>1</td>\n",
       "      <td>2</td>\n",
       "      <td>2</td>\n",
       "      <td>2</td>\n",
       "      <td>2</td>\n",
       "      <td>1</td>\n",
       "      <td>1</td>\n",
       "      <td>2</td>\n",
       "      <td>YES</td>\n",
       "    </tr>\n",
       "    <tr>\n",
       "      <th>307</th>\n",
       "      <td>M</td>\n",
       "      <td>67</td>\n",
       "      <td>2</td>\n",
       "      <td>1</td>\n",
       "      <td>2</td>\n",
       "      <td>1</td>\n",
       "      <td>1</td>\n",
       "      <td>2</td>\n",
       "      <td>2</td>\n",
       "      <td>1</td>\n",
       "      <td>2</td>\n",
       "      <td>2</td>\n",
       "      <td>2</td>\n",
       "      <td>1</td>\n",
       "      <td>2</td>\n",
       "      <td>YES</td>\n",
       "    </tr>\n",
       "    <tr>\n",
       "      <th>308</th>\n",
       "      <td>M</td>\n",
       "      <td>62</td>\n",
       "      <td>1</td>\n",
       "      <td>1</td>\n",
       "      <td>1</td>\n",
       "      <td>2</td>\n",
       "      <td>1</td>\n",
       "      <td>2</td>\n",
       "      <td>2</td>\n",
       "      <td>2</td>\n",
       "      <td>2</td>\n",
       "      <td>1</td>\n",
       "      <td>1</td>\n",
       "      <td>2</td>\n",
       "      <td>1</td>\n",
       "      <td>YES</td>\n",
       "    </tr>\n",
       "  </tbody>\n",
       "</table>\n",
       "</div>"
      ],
      "text/plain": [
       "    GENDER  AGE  SMOKING  YELLOW_FINGERS  ANXIETY  PEER_PRESSURE  \\\n",
       "99       M   56        2               1        1              1   \n",
       "100      M   58        2               1        1              1   \n",
       "117      F   51        2               2        2              2   \n",
       "199      F   55        2               1        1              2   \n",
       "212      M   58        2               1        1              1   \n",
       "223      M   63        2               2        2              1   \n",
       "256      M   60        2               1        1              1   \n",
       "275      M   64        2               2        2              2   \n",
       "284      M   58        2               2        2              2   \n",
       "285      F   58        2               2        2              2   \n",
       "286      F   63        1               1        1              1   \n",
       "287      F   51        2               2        2              2   \n",
       "288      F   61        1               2        2              2   \n",
       "289      F   61        2               1        1              1   \n",
       "290      M   76        2               1        1              1   \n",
       "291      M   71        2               2        2              1   \n",
       "292      M   69        1               1        2              1   \n",
       "293      F   56        2               2        2              1   \n",
       "294      M   67        1               1        1              2   \n",
       "295      F   54        2               2        2              1   \n",
       "296      M   63        1               2        1              1   \n",
       "297      F   47        2               2        1              2   \n",
       "298      M   62        2               1        2              1   \n",
       "299      M   65        2               2        2              2   \n",
       "300      F   63        2               2        2              2   \n",
       "301      M   64        1               2        2              2   \n",
       "302      F   65        2               2        2              2   \n",
       "303      M   51        1               2        1              1   \n",
       "304      F   56        1               1        1              2   \n",
       "305      M   70        2               1        1              1   \n",
       "306      M   58        2               1        1              1   \n",
       "307      M   67        2               1        2              1   \n",
       "308      M   62        1               1        1              2   \n",
       "\n",
       "     CHRONIC DISEASE  FATIGUE   ALLERGY   WHEEZING  ALCOHOL CONSUMING  \\\n",
       "99                 1         2         2         2                  2   \n",
       "100                1         1         2         2                  2   \n",
       "117                1         2         2         1                  1   \n",
       "199                2         2         2         2                  2   \n",
       "212                1         2         2         2                  2   \n",
       "223                2         2         2         2                  1   \n",
       "256                1         2         2         2                  2   \n",
       "275                2         1         1         1                  2   \n",
       "284                2         1         1         1                  2   \n",
       "285                1         2         1         1                  1   \n",
       "286                2         2         1         1                  1   \n",
       "287                1         2         1         1                  1   \n",
       "288                1         1         2         2                  1   \n",
       "289                2         2         2         1                  1   \n",
       "290                1         2         2         2                  2   \n",
       "291                2         1         2         2                  2   \n",
       "292                1         2         1         2                  2   \n",
       "293                1         2         2         1                  1   \n",
       "294                1         2         1         2                  1   \n",
       "295                2         1         1         2                  2   \n",
       "296                1         2         1         2                  2   \n",
       "297                2         2         2         2                  1   \n",
       "298                1         2         1         2                  2   \n",
       "299                1         2         2         1                  1   \n",
       "300                2         2         2         2                  1   \n",
       "301                1         1         2         1                  2   \n",
       "302                1         2         1         2                  1   \n",
       "303                2         2         2         2                  2   \n",
       "304                2         2         1         1                  2   \n",
       "305                1         2         2         2                  2   \n",
       "306                1         1         2         2                  2   \n",
       "307                1         2         2         1                  2   \n",
       "308                1         2         2         2                  2   \n",
       "\n",
       "     COUGHING  SHORTNESS OF BREATH  SWALLOWING DIFFICULTY  CHEST PAIN  \\\n",
       "99          2                    2                      1           2   \n",
       "100         2                    1                      1           1   \n",
       "117         1                    2                      2           1   \n",
       "199         1                    1                      2           2   \n",
       "212         2                    2                      1           2   \n",
       "223         1                    2                      1           1   \n",
       "256         2                    2                      1           2   \n",
       "275         1                    1                      2           2   \n",
       "284         1                    1                      2           2   \n",
       "285         2                    2                      2           1   \n",
       "286         1                    2                      1           1   \n",
       "287         1                    2                      2           1   \n",
       "288         2                    1                      2           1   \n",
       "289         1                    2                      1           1   \n",
       "290         2                    2                      1           2   \n",
       "291         2                    1                      2           2   \n",
       "292         2                    2                      2           1   \n",
       "293         1                    2                      1           2   \n",
       "294         2                    2                      1           2   \n",
       "295         1                    2                      2           2   \n",
       "296         2                    2                      1           1   \n",
       "297         2                    2                      1           1   \n",
       "298         2                    2                      1           2   \n",
       "299         1                    2                      2           1   \n",
       "300         2                    2                      2           2   \n",
       "301         1                    1                      2           2   \n",
       "302         2                    2                      2           1   \n",
       "303         2                    2                      1           2   \n",
       "304         2                    2                      2           1   \n",
       "305         2                    2                      1           2   \n",
       "306         2                    1                      1           2   \n",
       "307         2                    2                      1           2   \n",
       "308         1                    1                      2           1   \n",
       "\n",
       "    LUNG_CANCER  \n",
       "99          YES  \n",
       "100         YES  \n",
       "117         YES  \n",
       "199         YES  \n",
       "212         YES  \n",
       "223         YES  \n",
       "256         YES  \n",
       "275         YES  \n",
       "284         YES  \n",
       "285         YES  \n",
       "286          NO  \n",
       "287         YES  \n",
       "288         YES  \n",
       "289         YES  \n",
       "290         YES  \n",
       "291         YES  \n",
       "292         YES  \n",
       "293         YES  \n",
       "294         YES  \n",
       "295         YES  \n",
       "296         YES  \n",
       "297         YES  \n",
       "298         YES  \n",
       "299         YES  \n",
       "300         YES  \n",
       "301         YES  \n",
       "302         YES  \n",
       "303         YES  \n",
       "304         YES  \n",
       "305         YES  \n",
       "306         YES  \n",
       "307         YES  \n",
       "308         YES  "
      ]
     },
     "execution_count": 7,
     "metadata": {},
     "output_type": "execute_result"
    }
   ],
   "source": [
    "lc[lc.duplicated()]"
   ]
  },
  {
   "cell_type": "code",
   "execution_count": 8,
   "id": "bc224143",
   "metadata": {
    "ExecuteTime": {
     "end_time": "2023-11-28T19:29:48.296512Z",
     "start_time": "2023-11-28T19:29:48.262272Z"
    }
   },
   "outputs": [
    {
     "data": {
      "text/plain": [
       "33"
      ]
     },
     "execution_count": 8,
     "metadata": {},
     "output_type": "execute_result"
    }
   ],
   "source": [
    "#length of duplicated data\n",
    "len(lc[lc.duplicated()])"
   ]
  },
  {
   "cell_type": "code",
   "execution_count": 9,
   "id": "9ca59d55",
   "metadata": {
    "ExecuteTime": {
     "end_time": "2023-11-28T19:29:48.315173Z",
     "start_time": "2023-11-28T19:29:48.300516Z"
    }
   },
   "outputs": [
    {
     "name": "stdout",
     "output_type": "stream",
     "text": [
      "10.679611650485436  %\n"
     ]
    }
   ],
   "source": [
    "#percentage of data duplicated\n",
    "print((len(lc[lc.duplicated()])/len(lc))*100,' %')"
   ]
  },
  {
   "cell_type": "markdown",
   "id": "bcf099a8",
   "metadata": {},
   "source": [
    "# Q3"
   ]
  },
  {
   "cell_type": "code",
   "execution_count": 10,
   "id": "197628f1",
   "metadata": {
    "ExecuteTime": {
     "end_time": "2023-11-28T19:29:48.335292Z",
     "start_time": "2023-11-28T19:29:48.320175Z"
    }
   },
   "outputs": [
    {
     "data": {
      "text/plain": [
       "GENDER                   object\n",
       "AGE                       int64\n",
       "SMOKING                   int64\n",
       "YELLOW_FINGERS            int64\n",
       "ANXIETY                   int64\n",
       "PEER_PRESSURE             int64\n",
       "CHRONIC DISEASE           int64\n",
       "FATIGUE                   int64\n",
       "ALLERGY                   int64\n",
       "WHEEZING                  int64\n",
       "ALCOHOL CONSUMING         int64\n",
       "COUGHING                  int64\n",
       "SHORTNESS OF BREATH       int64\n",
       "SWALLOWING DIFFICULTY     int64\n",
       "CHEST PAIN                int64\n",
       "LUNG_CANCER              object\n",
       "dtype: object"
      ]
     },
     "execution_count": 10,
     "metadata": {},
     "output_type": "execute_result"
    }
   ],
   "source": [
    "lc.dtypes"
   ]
  },
  {
   "cell_type": "code",
   "execution_count": 11,
   "id": "e4419e80",
   "metadata": {
    "ExecuteTime": {
     "end_time": "2023-11-28T19:29:48.374469Z",
     "start_time": "2023-11-28T19:29:48.349302Z"
    }
   },
   "outputs": [
    {
     "data": {
      "text/html": [
       "<div>\n",
       "<style scoped>\n",
       "    .dataframe tbody tr th:only-of-type {\n",
       "        vertical-align: middle;\n",
       "    }\n",
       "\n",
       "    .dataframe tbody tr th {\n",
       "        vertical-align: top;\n",
       "    }\n",
       "\n",
       "    .dataframe thead th {\n",
       "        text-align: right;\n",
       "    }\n",
       "</style>\n",
       "<table border=\"1\" class=\"dataframe\">\n",
       "  <thead>\n",
       "    <tr style=\"text-align: right;\">\n",
       "      <th></th>\n",
       "      <th>GENDER</th>\n",
       "      <th>AGE</th>\n",
       "      <th>SMOKING</th>\n",
       "      <th>YELLOW_FINGERS</th>\n",
       "      <th>ANXIETY</th>\n",
       "      <th>PEER_PRESSURE</th>\n",
       "      <th>CHRONIC DISEASE</th>\n",
       "      <th>FATIGUE</th>\n",
       "      <th>ALLERGY</th>\n",
       "      <th>WHEEZING</th>\n",
       "      <th>ALCOHOL CONSUMING</th>\n",
       "      <th>COUGHING</th>\n",
       "      <th>SHORTNESS OF BREATH</th>\n",
       "      <th>SWALLOWING DIFFICULTY</th>\n",
       "      <th>CHEST PAIN</th>\n",
       "      <th>LUNG_CANCER</th>\n",
       "    </tr>\n",
       "  </thead>\n",
       "  <tbody>\n",
       "  </tbody>\n",
       "</table>\n",
       "</div>"
      ],
      "text/plain": [
       "Empty DataFrame\n",
       "Columns: [GENDER, AGE, SMOKING, YELLOW_FINGERS, ANXIETY, PEER_PRESSURE, CHRONIC DISEASE, FATIGUE , ALLERGY , WHEEZING, ALCOHOL CONSUMING, COUGHING, SHORTNESS OF BREATH, SWALLOWING DIFFICULTY, CHEST PAIN, LUNG_CANCER]\n",
       "Index: []"
      ]
     },
     "execution_count": 11,
     "metadata": {},
     "output_type": "execute_result"
    }
   ],
   "source": [
    "lc[lc.AGE<3]"
   ]
  },
  {
   "cell_type": "markdown",
   "id": "d186dccb",
   "metadata": {},
   "source": [
    "We dont have ages = 2 or 1 so \n",
    "- Let's replace the 1 and 2 with 'NO','YES'"
   ]
  },
  {
   "cell_type": "code",
   "execution_count": 12,
   "id": "1717b955",
   "metadata": {
    "ExecuteTime": {
     "end_time": "2023-11-28T19:29:48.410230Z",
     "start_time": "2023-11-28T19:29:48.383470Z"
    }
   },
   "outputs": [],
   "source": [
    "lc.replace(1,'NO',inplace=True)\n",
    "lc.replace(2,'YES',inplace=True)"
   ]
  },
  {
   "cell_type": "code",
   "execution_count": 13,
   "id": "6d2c49e0",
   "metadata": {
    "ExecuteTime": {
     "end_time": "2023-11-28T19:29:48.471935Z",
     "start_time": "2023-11-28T19:29:48.416232Z"
    }
   },
   "outputs": [
    {
     "data": {
      "text/html": [
       "<div>\n",
       "<style scoped>\n",
       "    .dataframe tbody tr th:only-of-type {\n",
       "        vertical-align: middle;\n",
       "    }\n",
       "\n",
       "    .dataframe tbody tr th {\n",
       "        vertical-align: top;\n",
       "    }\n",
       "\n",
       "    .dataframe thead th {\n",
       "        text-align: right;\n",
       "    }\n",
       "</style>\n",
       "<table border=\"1\" class=\"dataframe\">\n",
       "  <thead>\n",
       "    <tr style=\"text-align: right;\">\n",
       "      <th></th>\n",
       "      <th>GENDER</th>\n",
       "      <th>AGE</th>\n",
       "      <th>SMOKING</th>\n",
       "      <th>YELLOW_FINGERS</th>\n",
       "      <th>ANXIETY</th>\n",
       "      <th>PEER_PRESSURE</th>\n",
       "      <th>CHRONIC DISEASE</th>\n",
       "      <th>FATIGUE</th>\n",
       "      <th>ALLERGY</th>\n",
       "      <th>WHEEZING</th>\n",
       "      <th>ALCOHOL CONSUMING</th>\n",
       "      <th>COUGHING</th>\n",
       "      <th>SHORTNESS OF BREATH</th>\n",
       "      <th>SWALLOWING DIFFICULTY</th>\n",
       "      <th>CHEST PAIN</th>\n",
       "      <th>LUNG_CANCER</th>\n",
       "    </tr>\n",
       "  </thead>\n",
       "  <tbody>\n",
       "    <tr>\n",
       "      <th>0</th>\n",
       "      <td>M</td>\n",
       "      <td>69</td>\n",
       "      <td>NO</td>\n",
       "      <td>YES</td>\n",
       "      <td>YES</td>\n",
       "      <td>NO</td>\n",
       "      <td>NO</td>\n",
       "      <td>YES</td>\n",
       "      <td>NO</td>\n",
       "      <td>YES</td>\n",
       "      <td>YES</td>\n",
       "      <td>YES</td>\n",
       "      <td>YES</td>\n",
       "      <td>YES</td>\n",
       "      <td>YES</td>\n",
       "      <td>YES</td>\n",
       "    </tr>\n",
       "    <tr>\n",
       "      <th>1</th>\n",
       "      <td>M</td>\n",
       "      <td>74</td>\n",
       "      <td>YES</td>\n",
       "      <td>NO</td>\n",
       "      <td>NO</td>\n",
       "      <td>NO</td>\n",
       "      <td>YES</td>\n",
       "      <td>YES</td>\n",
       "      <td>YES</td>\n",
       "      <td>NO</td>\n",
       "      <td>NO</td>\n",
       "      <td>NO</td>\n",
       "      <td>YES</td>\n",
       "      <td>YES</td>\n",
       "      <td>YES</td>\n",
       "      <td>YES</td>\n",
       "    </tr>\n",
       "    <tr>\n",
       "      <th>2</th>\n",
       "      <td>F</td>\n",
       "      <td>59</td>\n",
       "      <td>NO</td>\n",
       "      <td>NO</td>\n",
       "      <td>NO</td>\n",
       "      <td>YES</td>\n",
       "      <td>NO</td>\n",
       "      <td>YES</td>\n",
       "      <td>NO</td>\n",
       "      <td>YES</td>\n",
       "      <td>NO</td>\n",
       "      <td>YES</td>\n",
       "      <td>YES</td>\n",
       "      <td>NO</td>\n",
       "      <td>YES</td>\n",
       "      <td>NO</td>\n",
       "    </tr>\n",
       "    <tr>\n",
       "      <th>3</th>\n",
       "      <td>M</td>\n",
       "      <td>63</td>\n",
       "      <td>YES</td>\n",
       "      <td>YES</td>\n",
       "      <td>YES</td>\n",
       "      <td>NO</td>\n",
       "      <td>NO</td>\n",
       "      <td>NO</td>\n",
       "      <td>NO</td>\n",
       "      <td>NO</td>\n",
       "      <td>YES</td>\n",
       "      <td>NO</td>\n",
       "      <td>NO</td>\n",
       "      <td>YES</td>\n",
       "      <td>YES</td>\n",
       "      <td>NO</td>\n",
       "    </tr>\n",
       "    <tr>\n",
       "      <th>4</th>\n",
       "      <td>F</td>\n",
       "      <td>63</td>\n",
       "      <td>NO</td>\n",
       "      <td>YES</td>\n",
       "      <td>NO</td>\n",
       "      <td>NO</td>\n",
       "      <td>NO</td>\n",
       "      <td>NO</td>\n",
       "      <td>NO</td>\n",
       "      <td>YES</td>\n",
       "      <td>NO</td>\n",
       "      <td>YES</td>\n",
       "      <td>YES</td>\n",
       "      <td>NO</td>\n",
       "      <td>NO</td>\n",
       "      <td>NO</td>\n",
       "    </tr>\n",
       "    <tr>\n",
       "      <th>...</th>\n",
       "      <td>...</td>\n",
       "      <td>...</td>\n",
       "      <td>...</td>\n",
       "      <td>...</td>\n",
       "      <td>...</td>\n",
       "      <td>...</td>\n",
       "      <td>...</td>\n",
       "      <td>...</td>\n",
       "      <td>...</td>\n",
       "      <td>...</td>\n",
       "      <td>...</td>\n",
       "      <td>...</td>\n",
       "      <td>...</td>\n",
       "      <td>...</td>\n",
       "      <td>...</td>\n",
       "      <td>...</td>\n",
       "    </tr>\n",
       "    <tr>\n",
       "      <th>304</th>\n",
       "      <td>F</td>\n",
       "      <td>56</td>\n",
       "      <td>NO</td>\n",
       "      <td>NO</td>\n",
       "      <td>NO</td>\n",
       "      <td>YES</td>\n",
       "      <td>YES</td>\n",
       "      <td>YES</td>\n",
       "      <td>NO</td>\n",
       "      <td>NO</td>\n",
       "      <td>YES</td>\n",
       "      <td>YES</td>\n",
       "      <td>YES</td>\n",
       "      <td>YES</td>\n",
       "      <td>NO</td>\n",
       "      <td>YES</td>\n",
       "    </tr>\n",
       "    <tr>\n",
       "      <th>305</th>\n",
       "      <td>M</td>\n",
       "      <td>70</td>\n",
       "      <td>YES</td>\n",
       "      <td>NO</td>\n",
       "      <td>NO</td>\n",
       "      <td>NO</td>\n",
       "      <td>NO</td>\n",
       "      <td>YES</td>\n",
       "      <td>YES</td>\n",
       "      <td>YES</td>\n",
       "      <td>YES</td>\n",
       "      <td>YES</td>\n",
       "      <td>YES</td>\n",
       "      <td>NO</td>\n",
       "      <td>YES</td>\n",
       "      <td>YES</td>\n",
       "    </tr>\n",
       "    <tr>\n",
       "      <th>306</th>\n",
       "      <td>M</td>\n",
       "      <td>58</td>\n",
       "      <td>YES</td>\n",
       "      <td>NO</td>\n",
       "      <td>NO</td>\n",
       "      <td>NO</td>\n",
       "      <td>NO</td>\n",
       "      <td>NO</td>\n",
       "      <td>YES</td>\n",
       "      <td>YES</td>\n",
       "      <td>YES</td>\n",
       "      <td>YES</td>\n",
       "      <td>NO</td>\n",
       "      <td>NO</td>\n",
       "      <td>YES</td>\n",
       "      <td>YES</td>\n",
       "    </tr>\n",
       "    <tr>\n",
       "      <th>307</th>\n",
       "      <td>M</td>\n",
       "      <td>67</td>\n",
       "      <td>YES</td>\n",
       "      <td>NO</td>\n",
       "      <td>YES</td>\n",
       "      <td>NO</td>\n",
       "      <td>NO</td>\n",
       "      <td>YES</td>\n",
       "      <td>YES</td>\n",
       "      <td>NO</td>\n",
       "      <td>YES</td>\n",
       "      <td>YES</td>\n",
       "      <td>YES</td>\n",
       "      <td>NO</td>\n",
       "      <td>YES</td>\n",
       "      <td>YES</td>\n",
       "    </tr>\n",
       "    <tr>\n",
       "      <th>308</th>\n",
       "      <td>M</td>\n",
       "      <td>62</td>\n",
       "      <td>NO</td>\n",
       "      <td>NO</td>\n",
       "      <td>NO</td>\n",
       "      <td>YES</td>\n",
       "      <td>NO</td>\n",
       "      <td>YES</td>\n",
       "      <td>YES</td>\n",
       "      <td>YES</td>\n",
       "      <td>YES</td>\n",
       "      <td>NO</td>\n",
       "      <td>NO</td>\n",
       "      <td>YES</td>\n",
       "      <td>NO</td>\n",
       "      <td>YES</td>\n",
       "    </tr>\n",
       "  </tbody>\n",
       "</table>\n",
       "<p>309 rows × 16 columns</p>\n",
       "</div>"
      ],
      "text/plain": [
       "    GENDER  AGE SMOKING YELLOW_FINGERS ANXIETY PEER_PRESSURE CHRONIC DISEASE  \\\n",
       "0        M   69      NO            YES     YES            NO              NO   \n",
       "1        M   74     YES             NO      NO            NO             YES   \n",
       "2        F   59      NO             NO      NO           YES              NO   \n",
       "3        M   63     YES            YES     YES            NO              NO   \n",
       "4        F   63      NO            YES      NO            NO              NO   \n",
       "..     ...  ...     ...            ...     ...           ...             ...   \n",
       "304      F   56      NO             NO      NO           YES             YES   \n",
       "305      M   70     YES             NO      NO            NO              NO   \n",
       "306      M   58     YES             NO      NO            NO              NO   \n",
       "307      M   67     YES             NO     YES            NO              NO   \n",
       "308      M   62      NO             NO      NO           YES              NO   \n",
       "\n",
       "    FATIGUE  ALLERGY  WHEEZING ALCOHOL CONSUMING COUGHING SHORTNESS OF BREATH  \\\n",
       "0        YES       NO      YES               YES      YES                 YES   \n",
       "1        YES      YES       NO                NO       NO                 YES   \n",
       "2        YES       NO      YES                NO      YES                 YES   \n",
       "3         NO       NO       NO               YES       NO                  NO   \n",
       "4         NO       NO      YES                NO      YES                 YES   \n",
       "..       ...      ...      ...               ...      ...                 ...   \n",
       "304      YES       NO       NO               YES      YES                 YES   \n",
       "305      YES      YES      YES               YES      YES                 YES   \n",
       "306       NO      YES      YES               YES      YES                  NO   \n",
       "307      YES      YES       NO               YES      YES                 YES   \n",
       "308      YES      YES      YES               YES       NO                  NO   \n",
       "\n",
       "    SWALLOWING DIFFICULTY CHEST PAIN LUNG_CANCER  \n",
       "0                     YES        YES         YES  \n",
       "1                     YES        YES         YES  \n",
       "2                      NO        YES          NO  \n",
       "3                     YES        YES          NO  \n",
       "4                      NO         NO          NO  \n",
       "..                    ...        ...         ...  \n",
       "304                   YES         NO         YES  \n",
       "305                    NO        YES         YES  \n",
       "306                    NO        YES         YES  \n",
       "307                    NO        YES         YES  \n",
       "308                   YES         NO         YES  \n",
       "\n",
       "[309 rows x 16 columns]"
      ]
     },
     "execution_count": 13,
     "metadata": {},
     "output_type": "execute_result"
    }
   ],
   "source": [
    "lc"
   ]
  },
  {
   "cell_type": "code",
   "execution_count": 14,
   "id": "dff58349",
   "metadata": {
    "ExecuteTime": {
     "end_time": "2023-11-28T19:29:48.491695Z",
     "start_time": "2023-11-28T19:29:48.476940Z"
    }
   },
   "outputs": [
    {
     "data": {
      "text/plain": [
       "GENDER                   object\n",
       "AGE                       int64\n",
       "SMOKING                  object\n",
       "YELLOW_FINGERS           object\n",
       "ANXIETY                  object\n",
       "PEER_PRESSURE            object\n",
       "CHRONIC DISEASE          object\n",
       "FATIGUE                  object\n",
       "ALLERGY                  object\n",
       "WHEEZING                 object\n",
       "ALCOHOL CONSUMING        object\n",
       "COUGHING                 object\n",
       "SHORTNESS OF BREATH      object\n",
       "SWALLOWING DIFFICULTY    object\n",
       "CHEST PAIN               object\n",
       "LUNG_CANCER              object\n",
       "dtype: object"
      ]
     },
     "execution_count": 14,
     "metadata": {},
     "output_type": "execute_result"
    }
   ],
   "source": [
    "lc.dtypes"
   ]
  },
  {
   "cell_type": "code",
   "execution_count": 15,
   "id": "d7b2e3ba",
   "metadata": {
    "ExecuteTime": {
     "end_time": "2023-11-28T19:29:48.509713Z",
     "start_time": "2023-11-28T19:29:48.495699Z"
    }
   },
   "outputs": [
    {
     "data": {
      "text/plain": [
       "(309, 16)"
      ]
     },
     "execution_count": 15,
     "metadata": {},
     "output_type": "execute_result"
    }
   ],
   "source": [
    "#shape of our data\n",
    "lc.shape"
   ]
  },
  {
   "cell_type": "code",
   "execution_count": 16,
   "id": "83a5cbfa",
   "metadata": {
    "ExecuteTime": {
     "end_time": "2023-11-28T19:29:48.550136Z",
     "start_time": "2023-11-28T19:29:48.513717Z"
    }
   },
   "outputs": [
    {
     "data": {
      "text/plain": [
       "count    309.000000\n",
       "mean      62.673139\n",
       "std        8.210301\n",
       "min       21.000000\n",
       "25%       57.000000\n",
       "50%       62.000000\n",
       "75%       69.000000\n",
       "max       87.000000\n",
       "Name: AGE, dtype: float64"
      ]
     },
     "execution_count": 16,
     "metadata": {},
     "output_type": "execute_result"
    }
   ],
   "source": [
    "# descriptive statistics of age\n",
    "lc['AGE'].describe()"
   ]
  },
  {
   "cell_type": "markdown",
   "id": "6e255d11",
   "metadata": {},
   "source": [
    "# 3. & 4."
   ]
  },
  {
   "cell_type": "markdown",
   "id": "0259e13d",
   "metadata": {},
   "source": [
    "### Let's investigate assuming that SMOKING is independent and LUNG_CANCER is dependent on it"
   ]
  },
  {
   "cell_type": "code",
   "execution_count": 17,
   "id": "8a3b9d06",
   "metadata": {
    "ExecuteTime": {
     "end_time": "2023-11-28T19:29:48.564500Z",
     "start_time": "2023-11-28T19:29:48.556138Z"
    }
   },
   "outputs": [],
   "source": [
    "#smoking in 1 or 2\n",
    "x=lc.SMOKING.replace('NO',1)\n",
    "x=x.replace('YES',2)"
   ]
  },
  {
   "cell_type": "code",
   "execution_count": 18,
   "id": "b0b44f68",
   "metadata": {
    "ExecuteTime": {
     "end_time": "2023-11-28T19:29:48.587390Z",
     "start_time": "2023-11-28T19:29:48.571503Z"
    }
   },
   "outputs": [
    {
     "data": {
      "text/plain": [
       "0      1\n",
       "1      2\n",
       "2      1\n",
       "3      2\n",
       "4      1\n",
       "      ..\n",
       "304    1\n",
       "305    2\n",
       "306    2\n",
       "307    2\n",
       "308    1\n",
       "Name: SMOKING, Length: 309, dtype: int64"
      ]
     },
     "execution_count": 18,
     "metadata": {},
     "output_type": "execute_result"
    }
   ],
   "source": [
    "#smoking in 1 or 2\n",
    "x"
   ]
  },
  {
   "cell_type": "code",
   "execution_count": 19,
   "id": "6013b5de",
   "metadata": {
    "ExecuteTime": {
     "end_time": "2023-11-28T19:29:48.599317Z",
     "start_time": "2023-11-28T19:29:48.591394Z"
    }
   },
   "outputs": [],
   "source": [
    "#lung cancer in 1 or 2\n",
    "y=lc['LUNG_CANCER'].replace('NO',1)\n",
    "y=y.replace('YES',2)"
   ]
  },
  {
   "cell_type": "code",
   "execution_count": 20,
   "id": "54322e64",
   "metadata": {
    "ExecuteTime": {
     "end_time": "2023-11-28T19:29:48.639063Z",
     "start_time": "2023-11-28T19:29:48.621312Z"
    },
    "scrolled": true
   },
   "outputs": [
    {
     "data": {
      "text/plain": [
       "0      2\n",
       "1      2\n",
       "2      1\n",
       "3      1\n",
       "4      1\n",
       "      ..\n",
       "304    2\n",
       "305    2\n",
       "306    2\n",
       "307    2\n",
       "308    2\n",
       "Name: LUNG_CANCER, Length: 309, dtype: int64"
      ]
     },
     "execution_count": 20,
     "metadata": {},
     "output_type": "execute_result"
    }
   ],
   "source": [
    "#lung cancer in 1 or 2\n",
    "y"
   ]
  },
  {
   "cell_type": "code",
   "execution_count": 21,
   "id": "6ba02ad6",
   "metadata": {
    "ExecuteTime": {
     "end_time": "2023-11-28T19:29:48.741857Z",
     "start_time": "2023-11-28T19:29:48.645067Z"
    }
   },
   "outputs": [
    {
     "data": {
      "text/plain": [
       "0.058178885852038675"
      ]
     },
     "execution_count": 21,
     "metadata": {},
     "output_type": "execute_result"
    }
   ],
   "source": [
    "# correlation between smoking and lung cancer\n",
    "x.corr(y)"
   ]
  },
  {
   "cell_type": "code",
   "execution_count": 22,
   "id": "6ea366e9",
   "metadata": {
    "ExecuteTime": {
     "end_time": "2023-11-28T19:29:48.751403Z",
     "start_time": "2023-11-28T19:29:48.745861Z"
    }
   },
   "outputs": [],
   "source": [
    "#there is a correlation but surperisengly it's not that big"
   ]
  },
  {
   "cell_type": "code",
   "execution_count": 23,
   "id": "d5bc342b",
   "metadata": {
    "ExecuteTime": {
     "end_time": "2023-11-28T19:29:49.777027Z",
     "start_time": "2023-11-28T19:29:48.758407Z"
    }
   },
   "outputs": [
    {
     "data": {
      "image/png": "[encoded data removed]",
      "text/plain": [
       "<Figure size 800x600 with 1 Axes>"
      ]
     },
     "metadata": {},
     "output_type": "display_data"
    }
   ],
   "source": [
    "cross_tab = pd.crosstab(lc['SMOKING'], lc['LUNG_CANCER'])\n",
    "cross_tab.plot(kind='bar', stacked=True, figsize=(8, 6))\n",
    "\n",
    "plt.title('Relation between Smoking and Lung Cancer')\n",
    "plt.xlabel('Smoking Status')\n",
    "plt.ylabel('Number of Cases')\n",
    "plt.legend(title='Lung Cancer Status')\n",
    "\n",
    "plt.show()"
   ]
  },
  {
   "cell_type": "code",
   "execution_count": 24,
   "id": "6479007b",
   "metadata": {
    "ExecuteTime": {
     "end_time": "2023-11-28T19:29:49.792965Z",
     "start_time": "2023-11-28T19:29:49.782034Z"
    }
   },
   "outputs": [],
   "source": [
    "# more lung cancer patients are smokers"
   ]
  },
  {
   "cell_type": "markdown",
   "id": "190df200",
   "metadata": {},
   "source": [
    "### Let's investigate assuming that ANXIETY is independent and LUNG_CANCER is dependent on it"
   ]
  },
  {
   "cell_type": "code",
   "execution_count": 25,
   "id": "f28e5e1a",
   "metadata": {
    "ExecuteTime": {
     "end_time": "2023-11-28T19:29:49.811980Z",
     "start_time": "2023-11-28T19:29:49.796972Z"
    }
   },
   "outputs": [],
   "source": [
    "#ANXIETY in 1 or 2\n",
    "anx12=lc.ANXIETY.replace('NO',1)\n",
    "anx12=anx12.replace('YES',2)"
   ]
  },
  {
   "cell_type": "code",
   "execution_count": 26,
   "id": "3e901171",
   "metadata": {
    "ExecuteTime": {
     "end_time": "2023-11-28T19:29:49.845629Z",
     "start_time": "2023-11-28T19:29:49.818986Z"
    }
   },
   "outputs": [
    {
     "data": {
      "text/plain": [
       "0      2\n",
       "1      1\n",
       "2      1\n",
       "3      2\n",
       "4      1\n",
       "      ..\n",
       "304    1\n",
       "305    1\n",
       "306    1\n",
       "307    2\n",
       "308    1\n",
       "Name: ANXIETY, Length: 309, dtype: int64"
      ]
     },
     "execution_count": 26,
     "metadata": {},
     "output_type": "execute_result"
    }
   ],
   "source": [
    "anx12"
   ]
  },
  {
   "cell_type": "code",
   "execution_count": 27,
   "id": "bbd2f8a6",
   "metadata": {
    "ExecuteTime": {
     "end_time": "2023-11-28T19:29:49.870502Z",
     "start_time": "2023-11-28T19:29:49.853633Z"
    }
   },
   "outputs": [
    {
     "data": {
      "text/plain": [
       "0      2\n",
       "1      2\n",
       "2      1\n",
       "3      1\n",
       "4      1\n",
       "      ..\n",
       "304    2\n",
       "305    2\n",
       "306    2\n",
       "307    2\n",
       "308    2\n",
       "Name: LUNG_CANCER, Length: 309, dtype: int64"
      ]
     },
     "execution_count": 27,
     "metadata": {},
     "output_type": "execute_result"
    }
   ],
   "source": [
    "#lung cancer in 1 or 2\n",
    "y"
   ]
  },
  {
   "cell_type": "code",
   "execution_count": 28,
   "id": "b5eae454",
   "metadata": {
    "ExecuteTime": {
     "end_time": "2023-11-28T19:29:49.893420Z",
     "start_time": "2023-11-28T19:29:49.876504Z"
    }
   },
   "outputs": [
    {
     "data": {
      "text/plain": [
       "0.144947132887312"
      ]
     },
     "execution_count": 28,
     "metadata": {},
     "output_type": "execute_result"
    }
   ],
   "source": [
    "anx12.corr(y)"
   ]
  },
  {
   "cell_type": "code",
   "execution_count": 29,
   "id": "b13a46c8",
   "metadata": {
    "ExecuteTime": {
     "end_time": "2023-11-28T19:29:49.927025Z",
     "start_time": "2023-11-28T19:29:49.905420Z"
    }
   },
   "outputs": [],
   "source": [
    "# there is a small correlation but corr exists"
   ]
  },
  {
   "cell_type": "code",
   "execution_count": 30,
   "id": "4ef3c08e",
   "metadata": {
    "ExecuteTime": {
     "end_time": "2023-11-28T19:29:50.604779Z",
     "start_time": "2023-11-28T19:29:49.932028Z"
    }
   },
   "outputs": [
    {
     "data": {
      "image/png": "[encoded data removed]",
      "text/plain": [
       "<Figure size 800x600 with 1 Axes>"
      ]
     },
     "metadata": {},
     "output_type": "display_data"
    }
   ],
   "source": [
    "cross_tab = pd.crosstab(lc['ANXIETY'], lc['LUNG_CANCER'])\n",
    "cross_tab.plot(kind='bar', stacked=True, figsize=(8, 6))\n",
    "\n",
    "plt.title('Relation between Anxiety and Lung Cancer')\n",
    "plt.xlabel('Anxiety')\n",
    "plt.ylabel('Number of Cases')\n",
    "plt.legend(title='Lung Cancer Status')\n",
    "\n",
    "plt.show()"
   ]
  },
  {
   "cell_type": "code",
   "execution_count": 31,
   "id": "74e65063",
   "metadata": {
    "ExecuteTime": {
     "end_time": "2023-11-28T19:29:50.648888Z",
     "start_time": "2023-11-28T19:29:50.611782Z"
    }
   },
   "outputs": [],
   "source": [
    "## a little bit there is an indication that if you have anxiety you are most probably have lung cancer (a little bit)"
   ]
  },
  {
   "cell_type": "markdown",
   "id": "0ac69ba9",
   "metadata": {},
   "source": [
    "### Let's assume that all features (independent) somehow affect Lung Cancer (Dependent) "
   ]
  },
  {
   "cell_type": "code",
   "execution_count": 32,
   "id": "cdc2d573",
   "metadata": {
    "ExecuteTime": {
     "end_time": "2023-11-28T19:29:50.739586Z",
     "start_time": "2023-11-28T19:29:50.654893Z"
    }
   },
   "outputs": [
    {
     "data": {
      "text/html": [
       "<div>\n",
       "<style scoped>\n",
       "    .dataframe tbody tr th:only-of-type {\n",
       "        vertical-align: middle;\n",
       "    }\n",
       "\n",
       "    .dataframe tbody tr th {\n",
       "        vertical-align: top;\n",
       "    }\n",
       "\n",
       "    .dataframe thead th {\n",
       "        text-align: right;\n",
       "    }\n",
       "</style>\n",
       "<table border=\"1\" class=\"dataframe\">\n",
       "  <thead>\n",
       "    <tr style=\"text-align: right;\">\n",
       "      <th></th>\n",
       "      <th>GENDER</th>\n",
       "      <th>AGE</th>\n",
       "      <th>SMOKING</th>\n",
       "      <th>YELLOW_FINGERS</th>\n",
       "      <th>ANXIETY</th>\n",
       "      <th>PEER_PRESSURE</th>\n",
       "      <th>CHRONIC DISEASE</th>\n",
       "      <th>FATIGUE</th>\n",
       "      <th>ALLERGY</th>\n",
       "      <th>WHEEZING</th>\n",
       "      <th>ALCOHOL CONSUMING</th>\n",
       "      <th>COUGHING</th>\n",
       "      <th>SHORTNESS OF BREATH</th>\n",
       "      <th>SWALLOWING DIFFICULTY</th>\n",
       "      <th>CHEST PAIN</th>\n",
       "      <th>LUNG_CANCER</th>\n",
       "    </tr>\n",
       "  </thead>\n",
       "  <tbody>\n",
       "    <tr>\n",
       "      <th>0</th>\n",
       "      <td>M</td>\n",
       "      <td>69</td>\n",
       "      <td>1</td>\n",
       "      <td>2</td>\n",
       "      <td>2</td>\n",
       "      <td>1</td>\n",
       "      <td>1</td>\n",
       "      <td>2</td>\n",
       "      <td>1</td>\n",
       "      <td>2</td>\n",
       "      <td>2</td>\n",
       "      <td>2</td>\n",
       "      <td>2</td>\n",
       "      <td>2</td>\n",
       "      <td>2</td>\n",
       "      <td>2</td>\n",
       "    </tr>\n",
       "    <tr>\n",
       "      <th>1</th>\n",
       "      <td>M</td>\n",
       "      <td>74</td>\n",
       "      <td>2</td>\n",
       "      <td>1</td>\n",
       "      <td>1</td>\n",
       "      <td>1</td>\n",
       "      <td>2</td>\n",
       "      <td>2</td>\n",
       "      <td>2</td>\n",
       "      <td>1</td>\n",
       "      <td>1</td>\n",
       "      <td>1</td>\n",
       "      <td>2</td>\n",
       "      <td>2</td>\n",
       "      <td>2</td>\n",
       "      <td>2</td>\n",
       "    </tr>\n",
       "    <tr>\n",
       "      <th>2</th>\n",
       "      <td>F</td>\n",
       "      <td>59</td>\n",
       "      <td>1</td>\n",
       "      <td>1</td>\n",
       "      <td>1</td>\n",
       "      <td>2</td>\n",
       "      <td>1</td>\n",
       "      <td>2</td>\n",
       "      <td>1</td>\n",
       "      <td>2</td>\n",
       "      <td>1</td>\n",
       "      <td>2</td>\n",
       "      <td>2</td>\n",
       "      <td>1</td>\n",
       "      <td>2</td>\n",
       "      <td>1</td>\n",
       "    </tr>\n",
       "    <tr>\n",
       "      <th>3</th>\n",
       "      <td>M</td>\n",
       "      <td>63</td>\n",
       "      <td>2</td>\n",
       "      <td>2</td>\n",
       "      <td>2</td>\n",
       "      <td>1</td>\n",
       "      <td>1</td>\n",
       "      <td>1</td>\n",
       "      <td>1</td>\n",
       "      <td>1</td>\n",
       "      <td>2</td>\n",
       "      <td>1</td>\n",
       "      <td>1</td>\n",
       "      <td>2</td>\n",
       "      <td>2</td>\n",
       "      <td>1</td>\n",
       "    </tr>\n",
       "    <tr>\n",
       "      <th>4</th>\n",
       "      <td>F</td>\n",
       "      <td>63</td>\n",
       "      <td>1</td>\n",
       "      <td>2</td>\n",
       "      <td>1</td>\n",
       "      <td>1</td>\n",
       "      <td>1</td>\n",
       "      <td>1</td>\n",
       "      <td>1</td>\n",
       "      <td>2</td>\n",
       "      <td>1</td>\n",
       "      <td>2</td>\n",
       "      <td>2</td>\n",
       "      <td>1</td>\n",
       "      <td>1</td>\n",
       "      <td>1</td>\n",
       "    </tr>\n",
       "    <tr>\n",
       "      <th>...</th>\n",
       "      <td>...</td>\n",
       "      <td>...</td>\n",
       "      <td>...</td>\n",
       "      <td>...</td>\n",
       "      <td>...</td>\n",
       "      <td>...</td>\n",
       "      <td>...</td>\n",
       "      <td>...</td>\n",
       "      <td>...</td>\n",
       "      <td>...</td>\n",
       "      <td>...</td>\n",
       "      <td>...</td>\n",
       "      <td>...</td>\n",
       "      <td>...</td>\n",
       "      <td>...</td>\n",
       "      <td>...</td>\n",
       "    </tr>\n",
       "    <tr>\n",
       "      <th>304</th>\n",
       "      <td>F</td>\n",
       "      <td>56</td>\n",
       "      <td>1</td>\n",
       "      <td>1</td>\n",
       "      <td>1</td>\n",
       "      <td>2</td>\n",
       "      <td>2</td>\n",
       "      <td>2</td>\n",
       "      <td>1</td>\n",
       "      <td>1</td>\n",
       "      <td>2</td>\n",
       "      <td>2</td>\n",
       "      <td>2</td>\n",
       "      <td>2</td>\n",
       "      <td>1</td>\n",
       "      <td>2</td>\n",
       "    </tr>\n",
       "    <tr>\n",
       "      <th>305</th>\n",
       "      <td>M</td>\n",
       "      <td>70</td>\n",
       "      <td>2</td>\n",
       "      <td>1</td>\n",
       "      <td>1</td>\n",
       "      <td>1</td>\n",
       "      <td>1</td>\n",
       "      <td>2</td>\n",
       "      <td>2</td>\n",
       "      <td>2</td>\n",
       "      <td>2</td>\n",
       "      <td>2</td>\n",
       "      <td>2</td>\n",
       "      <td>1</td>\n",
       "      <td>2</td>\n",
       "      <td>2</td>\n",
       "    </tr>\n",
       "    <tr>\n",
       "      <th>306</th>\n",
       "      <td>M</td>\n",
       "      <td>58</td>\n",
       "      <td>2</td>\n",
       "      <td>1</td>\n",
       "      <td>1</td>\n",
       "      <td>1</td>\n",
       "      <td>1</td>\n",
       "      <td>1</td>\n",
       "      <td>2</td>\n",
       "      <td>2</td>\n",
       "      <td>2</td>\n",
       "      <td>2</td>\n",
       "      <td>1</td>\n",
       "      <td>1</td>\n",
       "      <td>2</td>\n",
       "      <td>2</td>\n",
       "    </tr>\n",
       "    <tr>\n",
       "      <th>307</th>\n",
       "      <td>M</td>\n",
       "      <td>67</td>\n",
       "      <td>2</td>\n",
       "      <td>1</td>\n",
       "      <td>2</td>\n",
       "      <td>1</td>\n",
       "      <td>1</td>\n",
       "      <td>2</td>\n",
       "      <td>2</td>\n",
       "      <td>1</td>\n",
       "      <td>2</td>\n",
       "      <td>2</td>\n",
       "      <td>2</td>\n",
       "      <td>1</td>\n",
       "      <td>2</td>\n",
       "      <td>2</td>\n",
       "    </tr>\n",
       "    <tr>\n",
       "      <th>308</th>\n",
       "      <td>M</td>\n",
       "      <td>62</td>\n",
       "      <td>1</td>\n",
       "      <td>1</td>\n",
       "      <td>1</td>\n",
       "      <td>2</td>\n",
       "      <td>1</td>\n",
       "      <td>2</td>\n",
       "      <td>2</td>\n",
       "      <td>2</td>\n",
       "      <td>2</td>\n",
       "      <td>1</td>\n",
       "      <td>1</td>\n",
       "      <td>2</td>\n",
       "      <td>1</td>\n",
       "      <td>2</td>\n",
       "    </tr>\n",
       "  </tbody>\n",
       "</table>\n",
       "<p>309 rows × 16 columns</p>\n",
       "</div>"
      ],
      "text/plain": [
       "    GENDER  AGE  SMOKING  YELLOW_FINGERS  ANXIETY  PEER_PRESSURE  \\\n",
       "0        M   69        1               2        2              1   \n",
       "1        M   74        2               1        1              1   \n",
       "2        F   59        1               1        1              2   \n",
       "3        M   63        2               2        2              1   \n",
       "4        F   63        1               2        1              1   \n",
       "..     ...  ...      ...             ...      ...            ...   \n",
       "304      F   56        1               1        1              2   \n",
       "305      M   70        2               1        1              1   \n",
       "306      M   58        2               1        1              1   \n",
       "307      M   67        2               1        2              1   \n",
       "308      M   62        1               1        1              2   \n",
       "\n",
       "     CHRONIC DISEASE  FATIGUE   ALLERGY   WHEEZING  ALCOHOL CONSUMING  \\\n",
       "0                  1         2         1         2                  2   \n",
       "1                  2         2         2         1                  1   \n",
       "2                  1         2         1         2                  1   \n",
       "3                  1         1         1         1                  2   \n",
       "4                  1         1         1         2                  1   \n",
       "..               ...       ...       ...       ...                ...   \n",
       "304                2         2         1         1                  2   \n",
       "305                1         2         2         2                  2   \n",
       "306                1         1         2         2                  2   \n",
       "307                1         2         2         1                  2   \n",
       "308                1         2         2         2                  2   \n",
       "\n",
       "     COUGHING  SHORTNESS OF BREATH  SWALLOWING DIFFICULTY  CHEST PAIN  \\\n",
       "0           2                    2                      2           2   \n",
       "1           1                    2                      2           2   \n",
       "2           2                    2                      1           2   \n",
       "3           1                    1                      2           2   \n",
       "4           2                    2                      1           1   \n",
       "..        ...                  ...                    ...         ...   \n",
       "304         2                    2                      2           1   \n",
       "305         2                    2                      1           2   \n",
       "306         2                    1                      1           2   \n",
       "307         2                    2                      1           2   \n",
       "308         1                    1                      2           1   \n",
       "\n",
       "     LUNG_CANCER  \n",
       "0              2  \n",
       "1              2  \n",
       "2              1  \n",
       "3              1  \n",
       "4              1  \n",
       "..           ...  \n",
       "304            2  \n",
       "305            2  \n",
       "306            2  \n",
       "307            2  \n",
       "308            2  \n",
       "\n",
       "[309 rows x 16 columns]"
      ]
     },
     "execution_count": 32,
     "metadata": {},
     "output_type": "execute_result"
    }
   ],
   "source": [
    "returneddf=lc.replace(\"NO\",1)\n",
    "returneddf=returneddf.replace(\"YES\",2)\n",
    "returneddf"
   ]
  },
  {
   "cell_type": "code",
   "execution_count": 33,
   "id": "3c103fd4",
   "metadata": {
    "ExecuteTime": {
     "end_time": "2023-11-28T19:29:50.833235Z",
     "start_time": "2023-11-28T19:29:50.749587Z"
    },
    "scrolled": true
   },
   "outputs": [
    {
     "name": "stderr",
     "output_type": "stream",
     "text": [
      "C:\\Users\\clt\\AppData\\Local\\Temp\\ipykernel_7324\\2517431931.py:1: FutureWarning: The default value of numeric_only in DataFrame.corr is deprecated. In a future version, it will default to False. Select only valid columns or specify the value of numeric_only to silence this warning.\n",
      "  returneddf.corr()\n"
     ]
    },
    {
     "data": {
      "text/html": [
       "<div>\n",
       "<style scoped>\n",
       "    .dataframe tbody tr th:only-of-type {\n",
       "        vertical-align: middle;\n",
       "    }\n",
       "\n",
       "    .dataframe tbody tr th {\n",
       "        vertical-align: top;\n",
       "    }\n",
       "\n",
       "    .dataframe thead th {\n",
       "        text-align: right;\n",
       "    }\n",
       "</style>\n",
       "<table border=\"1\" class=\"dataframe\">\n",
       "  <thead>\n",
       "    <tr style=\"text-align: right;\">\n",
       "      <th></th>\n",
       "      <th>AGE</th>\n",
       "      <th>SMOKING</th>\n",
       "      <th>YELLOW_FINGERS</th>\n",
       "      <th>ANXIETY</th>\n",
       "      <th>PEER_PRESSURE</th>\n",
       "      <th>CHRONIC DISEASE</th>\n",
       "      <th>FATIGUE</th>\n",
       "      <th>ALLERGY</th>\n",
       "      <th>WHEEZING</th>\n",
       "      <th>ALCOHOL CONSUMING</th>\n",
       "      <th>COUGHING</th>\n",
       "      <th>SHORTNESS OF BREATH</th>\n",
       "      <th>SWALLOWING DIFFICULTY</th>\n",
       "      <th>CHEST PAIN</th>\n",
       "      <th>LUNG_CANCER</th>\n",
       "    </tr>\n",
       "  </thead>\n",
       "  <tbody>\n",
       "    <tr>\n",
       "      <th>AGE</th>\n",
       "      <td>1.000000</td>\n",
       "      <td>-0.084475</td>\n",
       "      <td>0.005205</td>\n",
       "      <td>0.053170</td>\n",
       "      <td>0.018685</td>\n",
       "      <td>-0.012642</td>\n",
       "      <td>0.012614</td>\n",
       "      <td>0.027990</td>\n",
       "      <td>0.055011</td>\n",
       "      <td>0.058985</td>\n",
       "      <td>0.169950</td>\n",
       "      <td>-0.017513</td>\n",
       "      <td>-0.001270</td>\n",
       "      <td>-0.018104</td>\n",
       "      <td>0.089465</td>\n",
       "    </tr>\n",
       "    <tr>\n",
       "      <th>SMOKING</th>\n",
       "      <td>-0.084475</td>\n",
       "      <td>1.000000</td>\n",
       "      <td>-0.014585</td>\n",
       "      <td>0.160267</td>\n",
       "      <td>-0.042822</td>\n",
       "      <td>-0.141522</td>\n",
       "      <td>-0.029575</td>\n",
       "      <td>0.001913</td>\n",
       "      <td>-0.129426</td>\n",
       "      <td>-0.050623</td>\n",
       "      <td>-0.129471</td>\n",
       "      <td>0.061264</td>\n",
       "      <td>0.030718</td>\n",
       "      <td>0.120117</td>\n",
       "      <td>0.058179</td>\n",
       "    </tr>\n",
       "    <tr>\n",
       "      <th>YELLOW_FINGERS</th>\n",
       "      <td>0.005205</td>\n",
       "      <td>-0.014585</td>\n",
       "      <td>1.000000</td>\n",
       "      <td>0.565829</td>\n",
       "      <td>0.323083</td>\n",
       "      <td>0.041122</td>\n",
       "      <td>-0.118058</td>\n",
       "      <td>-0.144300</td>\n",
       "      <td>-0.078515</td>\n",
       "      <td>-0.289025</td>\n",
       "      <td>-0.012640</td>\n",
       "      <td>-0.105944</td>\n",
       "      <td>0.345904</td>\n",
       "      <td>-0.104829</td>\n",
       "      <td>0.181339</td>\n",
       "    </tr>\n",
       "    <tr>\n",
       "      <th>ANXIETY</th>\n",
       "      <td>0.053170</td>\n",
       "      <td>0.160267</td>\n",
       "      <td>0.565829</td>\n",
       "      <td>1.000000</td>\n",
       "      <td>0.216841</td>\n",
       "      <td>-0.009678</td>\n",
       "      <td>-0.188538</td>\n",
       "      <td>-0.165750</td>\n",
       "      <td>-0.191807</td>\n",
       "      <td>-0.165750</td>\n",
       "      <td>-0.225644</td>\n",
       "      <td>-0.144077</td>\n",
       "      <td>0.489403</td>\n",
       "      <td>-0.113634</td>\n",
       "      <td>0.144947</td>\n",
       "    </tr>\n",
       "    <tr>\n",
       "      <th>PEER_PRESSURE</th>\n",
       "      <td>0.018685</td>\n",
       "      <td>-0.042822</td>\n",
       "      <td>0.323083</td>\n",
       "      <td>0.216841</td>\n",
       "      <td>1.000000</td>\n",
       "      <td>0.048515</td>\n",
       "      <td>0.078148</td>\n",
       "      <td>-0.081800</td>\n",
       "      <td>-0.068771</td>\n",
       "      <td>-0.159973</td>\n",
       "      <td>-0.089019</td>\n",
       "      <td>-0.220175</td>\n",
       "      <td>0.366590</td>\n",
       "      <td>-0.094828</td>\n",
       "      <td>0.186388</td>\n",
       "    </tr>\n",
       "    <tr>\n",
       "      <th>CHRONIC DISEASE</th>\n",
       "      <td>-0.012642</td>\n",
       "      <td>-0.141522</td>\n",
       "      <td>0.041122</td>\n",
       "      <td>-0.009678</td>\n",
       "      <td>0.048515</td>\n",
       "      <td>1.000000</td>\n",
       "      <td>-0.110529</td>\n",
       "      <td>0.106386</td>\n",
       "      <td>-0.049967</td>\n",
       "      <td>0.002150</td>\n",
       "      <td>-0.175287</td>\n",
       "      <td>-0.026459</td>\n",
       "      <td>0.075176</td>\n",
       "      <td>-0.036938</td>\n",
       "      <td>0.110891</td>\n",
       "    </tr>\n",
       "    <tr>\n",
       "      <th>FATIGUE</th>\n",
       "      <td>0.012614</td>\n",
       "      <td>-0.029575</td>\n",
       "      <td>-0.118058</td>\n",
       "      <td>-0.188538</td>\n",
       "      <td>0.078148</td>\n",
       "      <td>-0.110529</td>\n",
       "      <td>1.000000</td>\n",
       "      <td>0.003056</td>\n",
       "      <td>0.141937</td>\n",
       "      <td>-0.191377</td>\n",
       "      <td>0.146856</td>\n",
       "      <td>0.441745</td>\n",
       "      <td>-0.132790</td>\n",
       "      <td>-0.010832</td>\n",
       "      <td>0.150673</td>\n",
       "    </tr>\n",
       "    <tr>\n",
       "      <th>ALLERGY</th>\n",
       "      <td>0.027990</td>\n",
       "      <td>0.001913</td>\n",
       "      <td>-0.144300</td>\n",
       "      <td>-0.165750</td>\n",
       "      <td>-0.081800</td>\n",
       "      <td>0.106386</td>\n",
       "      <td>0.003056</td>\n",
       "      <td>1.000000</td>\n",
       "      <td>0.173867</td>\n",
       "      <td>0.344339</td>\n",
       "      <td>0.189524</td>\n",
       "      <td>-0.030056</td>\n",
       "      <td>-0.061508</td>\n",
       "      <td>0.239433</td>\n",
       "      <td>0.327766</td>\n",
       "    </tr>\n",
       "    <tr>\n",
       "      <th>WHEEZING</th>\n",
       "      <td>0.055011</td>\n",
       "      <td>-0.129426</td>\n",
       "      <td>-0.078515</td>\n",
       "      <td>-0.191807</td>\n",
       "      <td>-0.068771</td>\n",
       "      <td>-0.049967</td>\n",
       "      <td>0.141937</td>\n",
       "      <td>0.173867</td>\n",
       "      <td>1.000000</td>\n",
       "      <td>0.265659</td>\n",
       "      <td>0.374265</td>\n",
       "      <td>0.037834</td>\n",
       "      <td>0.069027</td>\n",
       "      <td>0.147640</td>\n",
       "      <td>0.249300</td>\n",
       "    </tr>\n",
       "    <tr>\n",
       "      <th>ALCOHOL CONSUMING</th>\n",
       "      <td>0.058985</td>\n",
       "      <td>-0.050623</td>\n",
       "      <td>-0.289025</td>\n",
       "      <td>-0.165750</td>\n",
       "      <td>-0.159973</td>\n",
       "      <td>0.002150</td>\n",
       "      <td>-0.191377</td>\n",
       "      <td>0.344339</td>\n",
       "      <td>0.265659</td>\n",
       "      <td>1.000000</td>\n",
       "      <td>0.202720</td>\n",
       "      <td>-0.179416</td>\n",
       "      <td>-0.009294</td>\n",
       "      <td>0.331226</td>\n",
       "      <td>0.288533</td>\n",
       "    </tr>\n",
       "    <tr>\n",
       "      <th>COUGHING</th>\n",
       "      <td>0.169950</td>\n",
       "      <td>-0.129471</td>\n",
       "      <td>-0.012640</td>\n",
       "      <td>-0.225644</td>\n",
       "      <td>-0.089019</td>\n",
       "      <td>-0.175287</td>\n",
       "      <td>0.146856</td>\n",
       "      <td>0.189524</td>\n",
       "      <td>0.374265</td>\n",
       "      <td>0.202720</td>\n",
       "      <td>1.000000</td>\n",
       "      <td>0.277385</td>\n",
       "      <td>-0.157586</td>\n",
       "      <td>0.083958</td>\n",
       "      <td>0.248570</td>\n",
       "    </tr>\n",
       "    <tr>\n",
       "      <th>SHORTNESS OF BREATH</th>\n",
       "      <td>-0.017513</td>\n",
       "      <td>0.061264</td>\n",
       "      <td>-0.105944</td>\n",
       "      <td>-0.144077</td>\n",
       "      <td>-0.220175</td>\n",
       "      <td>-0.026459</td>\n",
       "      <td>0.441745</td>\n",
       "      <td>-0.030056</td>\n",
       "      <td>0.037834</td>\n",
       "      <td>-0.179416</td>\n",
       "      <td>0.277385</td>\n",
       "      <td>1.000000</td>\n",
       "      <td>-0.161015</td>\n",
       "      <td>0.024256</td>\n",
       "      <td>0.060738</td>\n",
       "    </tr>\n",
       "    <tr>\n",
       "      <th>SWALLOWING DIFFICULTY</th>\n",
       "      <td>-0.001270</td>\n",
       "      <td>0.030718</td>\n",
       "      <td>0.345904</td>\n",
       "      <td>0.489403</td>\n",
       "      <td>0.366590</td>\n",
       "      <td>0.075176</td>\n",
       "      <td>-0.132790</td>\n",
       "      <td>-0.061508</td>\n",
       "      <td>0.069027</td>\n",
       "      <td>-0.009294</td>\n",
       "      <td>-0.157586</td>\n",
       "      <td>-0.161015</td>\n",
       "      <td>1.000000</td>\n",
       "      <td>0.069027</td>\n",
       "      <td>0.259730</td>\n",
       "    </tr>\n",
       "    <tr>\n",
       "      <th>CHEST PAIN</th>\n",
       "      <td>-0.018104</td>\n",
       "      <td>0.120117</td>\n",
       "      <td>-0.104829</td>\n",
       "      <td>-0.113634</td>\n",
       "      <td>-0.094828</td>\n",
       "      <td>-0.036938</td>\n",
       "      <td>-0.010832</td>\n",
       "      <td>0.239433</td>\n",
       "      <td>0.147640</td>\n",
       "      <td>0.331226</td>\n",
       "      <td>0.083958</td>\n",
       "      <td>0.024256</td>\n",
       "      <td>0.069027</td>\n",
       "      <td>1.000000</td>\n",
       "      <td>0.190451</td>\n",
       "    </tr>\n",
       "    <tr>\n",
       "      <th>LUNG_CANCER</th>\n",
       "      <td>0.089465</td>\n",
       "      <td>0.058179</td>\n",
       "      <td>0.181339</td>\n",
       "      <td>0.144947</td>\n",
       "      <td>0.186388</td>\n",
       "      <td>0.110891</td>\n",
       "      <td>0.150673</td>\n",
       "      <td>0.327766</td>\n",
       "      <td>0.249300</td>\n",
       "      <td>0.288533</td>\n",
       "      <td>0.248570</td>\n",
       "      <td>0.060738</td>\n",
       "      <td>0.259730</td>\n",
       "      <td>0.190451</td>\n",
       "      <td>1.000000</td>\n",
       "    </tr>\n",
       "  </tbody>\n",
       "</table>\n",
       "</div>"
      ],
      "text/plain": [
       "                            AGE   SMOKING  YELLOW_FINGERS   ANXIETY  \\\n",
       "AGE                    1.000000 -0.084475        0.005205  0.053170   \n",
       "SMOKING               -0.084475  1.000000       -0.014585  0.160267   \n",
       "YELLOW_FINGERS         0.005205 -0.014585        1.000000  0.565829   \n",
       "ANXIETY                0.053170  0.160267        0.565829  1.000000   \n",
       "PEER_PRESSURE          0.018685 -0.042822        0.323083  0.216841   \n",
       "CHRONIC DISEASE       -0.012642 -0.141522        0.041122 -0.009678   \n",
       "FATIGUE                0.012614 -0.029575       -0.118058 -0.188538   \n",
       "ALLERGY                0.027990  0.001913       -0.144300 -0.165750   \n",
       "WHEEZING               0.055011 -0.129426       -0.078515 -0.191807   \n",
       "ALCOHOL CONSUMING      0.058985 -0.050623       -0.289025 -0.165750   \n",
       "COUGHING               0.169950 -0.129471       -0.012640 -0.225644   \n",
       "SHORTNESS OF BREATH   -0.017513  0.061264       -0.105944 -0.144077   \n",
       "SWALLOWING DIFFICULTY -0.001270  0.030718        0.345904  0.489403   \n",
       "CHEST PAIN            -0.018104  0.120117       -0.104829 -0.113634   \n",
       "LUNG_CANCER            0.089465  0.058179        0.181339  0.144947   \n",
       "\n",
       "                       PEER_PRESSURE  CHRONIC DISEASE  FATIGUE   ALLERGY   \\\n",
       "AGE                         0.018685        -0.012642  0.012614  0.027990   \n",
       "SMOKING                    -0.042822        -0.141522 -0.029575  0.001913   \n",
       "YELLOW_FINGERS              0.323083         0.041122 -0.118058 -0.144300   \n",
       "ANXIETY                     0.216841        -0.009678 -0.188538 -0.165750   \n",
       "PEER_PRESSURE               1.000000         0.048515  0.078148 -0.081800   \n",
       "CHRONIC DISEASE             0.048515         1.000000 -0.110529  0.106386   \n",
       "FATIGUE                     0.078148        -0.110529  1.000000  0.003056   \n",
       "ALLERGY                    -0.081800         0.106386  0.003056  1.000000   \n",
       "WHEEZING                   -0.068771        -0.049967  0.141937  0.173867   \n",
       "ALCOHOL CONSUMING          -0.159973         0.002150 -0.191377  0.344339   \n",
       "COUGHING                   -0.089019        -0.175287  0.146856  0.189524   \n",
       "SHORTNESS OF BREATH        -0.220175        -0.026459  0.441745 -0.030056   \n",
       "SWALLOWING DIFFICULTY       0.366590         0.075176 -0.132790 -0.061508   \n",
       "CHEST PAIN                 -0.094828        -0.036938 -0.010832  0.239433   \n",
       "LUNG_CANCER                 0.186388         0.110891  0.150673  0.327766   \n",
       "\n",
       "                       WHEEZING  ALCOHOL CONSUMING  COUGHING  \\\n",
       "AGE                    0.055011           0.058985  0.169950   \n",
       "SMOKING               -0.129426          -0.050623 -0.129471   \n",
       "YELLOW_FINGERS        -0.078515          -0.289025 -0.012640   \n",
       "ANXIETY               -0.191807          -0.165750 -0.225644   \n",
       "PEER_PRESSURE         -0.068771          -0.159973 -0.089019   \n",
       "CHRONIC DISEASE       -0.049967           0.002150 -0.175287   \n",
       "FATIGUE                0.141937          -0.191377  0.146856   \n",
       "ALLERGY                0.173867           0.344339  0.189524   \n",
       "WHEEZING               1.000000           0.265659  0.374265   \n",
       "ALCOHOL CONSUMING      0.265659           1.000000  0.202720   \n",
       "COUGHING               0.374265           0.202720  1.000000   \n",
       "SHORTNESS OF BREATH    0.037834          -0.179416  0.277385   \n",
       "SWALLOWING DIFFICULTY  0.069027          -0.009294 -0.157586   \n",
       "CHEST PAIN             0.147640           0.331226  0.083958   \n",
       "LUNG_CANCER            0.249300           0.288533  0.248570   \n",
       "\n",
       "                       SHORTNESS OF BREATH  SWALLOWING DIFFICULTY  CHEST PAIN  \\\n",
       "AGE                              -0.017513              -0.001270   -0.018104   \n",
       "SMOKING                           0.061264               0.030718    0.120117   \n",
       "YELLOW_FINGERS                   -0.105944               0.345904   -0.104829   \n",
       "ANXIETY                          -0.144077               0.489403   -0.113634   \n",
       "PEER_PRESSURE                    -0.220175               0.366590   -0.094828   \n",
       "CHRONIC DISEASE                  -0.026459               0.075176   -0.036938   \n",
       "FATIGUE                           0.441745              -0.132790   -0.010832   \n",
       "ALLERGY                          -0.030056              -0.061508    0.239433   \n",
       "WHEEZING                          0.037834               0.069027    0.147640   \n",
       "ALCOHOL CONSUMING                -0.179416              -0.009294    0.331226   \n",
       "COUGHING                          0.277385              -0.157586    0.083958   \n",
       "SHORTNESS OF BREATH               1.000000              -0.161015    0.024256   \n",
       "SWALLOWING DIFFICULTY            -0.161015               1.000000    0.069027   \n",
       "CHEST PAIN                        0.024256               0.069027    1.000000   \n",
       "LUNG_CANCER                       0.060738               0.259730    0.190451   \n",
       "\n",
       "                       LUNG_CANCER  \n",
       "AGE                       0.089465  \n",
       "SMOKING                   0.058179  \n",
       "YELLOW_FINGERS            0.181339  \n",
       "ANXIETY                   0.144947  \n",
       "PEER_PRESSURE             0.186388  \n",
       "CHRONIC DISEASE           0.110891  \n",
       "FATIGUE                   0.150673  \n",
       "ALLERGY                   0.327766  \n",
       "WHEEZING                  0.249300  \n",
       "ALCOHOL CONSUMING         0.288533  \n",
       "COUGHING                  0.248570  \n",
       "SHORTNESS OF BREATH       0.060738  \n",
       "SWALLOWING DIFFICULTY     0.259730  \n",
       "CHEST PAIN                0.190451  \n",
       "LUNG_CANCER               1.000000  "
      ]
     },
     "execution_count": 33,
     "metadata": {},
     "output_type": "execute_result"
    }
   ],
   "source": [
    "returneddf.corr()"
   ]
  },
  {
   "cell_type": "code",
   "execution_count": 34,
   "id": "6dae8baa",
   "metadata": {
    "ExecuteTime": {
     "end_time": "2023-11-28T19:29:53.229698Z",
     "start_time": "2023-11-28T19:29:50.841239Z"
    }
   },
   "outputs": [
    {
     "name": "stderr",
     "output_type": "stream",
     "text": [
      "C:\\Users\\clt\\AppData\\Local\\Temp\\ipykernel_7324\\3836010839.py:4: FutureWarning: The default value of numeric_only in DataFrame.corr is deprecated. In a future version, it will default to False. Select only valid columns or specify the value of numeric_only to silence this warning.\n",
      "  sns.heatmap(returneddf.corr(),annot=True,cmap=\"Blues\")\n"
     ]
    },
    {
     "data": {
      "text/plain": [
       "<Axes: >"
      ]
     },
     "execution_count": 34,
     "metadata": {},
     "output_type": "execute_result"
    },
    {
     "data": {
      "image/png": "[encoded data removed]",
      "text/plain": [
       "<Figure size 1200x1000 with 2 Axes>"
      ]
     },
     "metadata": {},
     "output_type": "display_data"
    }
   ],
   "source": [
    "#heatmap or correlation matrix\n",
    "plt.figure(figsize=(12, 10))\n",
    "\n",
    "sns.heatmap(returneddf.corr(),annot=True,cmap=\"Blues\")"
   ]
  },
  {
   "cell_type": "markdown",
   "id": "19e62dcf",
   "metadata": {},
   "source": [
    "### ^^ We can see that all features affect lung cancer (Since all lung cancer rows and columns nearly there are no 0 values ( all features somehow affect lung cancer) \n",
    "### - So all columns are independent and lung cancer is dependent\n",
    "### - Allergy has the highest correlation with lung cancer"
   ]
  },
  {
   "cell_type": "markdown",
   "id": "bd2d4aaf",
   "metadata": {},
   "source": [
    "# ------------------\n",
    "## Crosstabs"
   ]
  },
  {
   "cell_type": "code",
   "execution_count": 35,
   "id": "d30857a7",
   "metadata": {
    "ExecuteTime": {
     "end_time": "2023-11-28T19:29:53.283711Z",
     "start_time": "2023-11-28T19:29:53.232702Z"
    }
   },
   "outputs": [
    {
     "data": {
      "text/html": [
       "<div>\n",
       "<style scoped>\n",
       "    .dataframe tbody tr th:only-of-type {\n",
       "        vertical-align: middle;\n",
       "    }\n",
       "\n",
       "    .dataframe tbody tr th {\n",
       "        vertical-align: top;\n",
       "    }\n",
       "\n",
       "    .dataframe thead th {\n",
       "        text-align: right;\n",
       "    }\n",
       "</style>\n",
       "<table border=\"1\" class=\"dataframe\">\n",
       "  <thead>\n",
       "    <tr style=\"text-align: right;\">\n",
       "      <th>LUNG_CANCER</th>\n",
       "      <th>NO</th>\n",
       "      <th>YES</th>\n",
       "    </tr>\n",
       "    <tr>\n",
       "      <th>AGE</th>\n",
       "      <th></th>\n",
       "      <th></th>\n",
       "    </tr>\n",
       "  </thead>\n",
       "  <tbody>\n",
       "    <tr>\n",
       "      <th>21</th>\n",
       "      <td>1</td>\n",
       "      <td>0</td>\n",
       "    </tr>\n",
       "    <tr>\n",
       "      <th>38</th>\n",
       "      <td>0</td>\n",
       "      <td>1</td>\n",
       "    </tr>\n",
       "    <tr>\n",
       "      <th>39</th>\n",
       "      <td>0</td>\n",
       "      <td>1</td>\n",
       "    </tr>\n",
       "    <tr>\n",
       "      <th>44</th>\n",
       "      <td>0</td>\n",
       "      <td>2</td>\n",
       "    </tr>\n",
       "    <tr>\n",
       "      <th>46</th>\n",
       "      <td>1</td>\n",
       "      <td>0</td>\n",
       "    </tr>\n",
       "    <tr>\n",
       "      <th>47</th>\n",
       "      <td>1</td>\n",
       "      <td>3</td>\n",
       "    </tr>\n",
       "    <tr>\n",
       "      <th>48</th>\n",
       "      <td>0</td>\n",
       "      <td>2</td>\n",
       "    </tr>\n",
       "    <tr>\n",
       "      <th>49</th>\n",
       "      <td>0</td>\n",
       "      <td>3</td>\n",
       "    </tr>\n",
       "    <tr>\n",
       "      <th>51</th>\n",
       "      <td>0</td>\n",
       "      <td>8</td>\n",
       "    </tr>\n",
       "    <tr>\n",
       "      <th>52</th>\n",
       "      <td>0</td>\n",
       "      <td>4</td>\n",
       "    </tr>\n",
       "    <tr>\n",
       "      <th>53</th>\n",
       "      <td>0</td>\n",
       "      <td>4</td>\n",
       "    </tr>\n",
       "    <tr>\n",
       "      <th>54</th>\n",
       "      <td>0</td>\n",
       "      <td>8</td>\n",
       "    </tr>\n",
       "    <tr>\n",
       "      <th>55</th>\n",
       "      <td>3</td>\n",
       "      <td>8</td>\n",
       "    </tr>\n",
       "    <tr>\n",
       "      <th>56</th>\n",
       "      <td>2</td>\n",
       "      <td>17</td>\n",
       "    </tr>\n",
       "    <tr>\n",
       "      <th>57</th>\n",
       "      <td>3</td>\n",
       "      <td>6</td>\n",
       "    </tr>\n",
       "    <tr>\n",
       "      <th>58</th>\n",
       "      <td>1</td>\n",
       "      <td>12</td>\n",
       "    </tr>\n",
       "    <tr>\n",
       "      <th>59</th>\n",
       "      <td>4</td>\n",
       "      <td>11</td>\n",
       "    </tr>\n",
       "    <tr>\n",
       "      <th>60</th>\n",
       "      <td>3</td>\n",
       "      <td>14</td>\n",
       "    </tr>\n",
       "    <tr>\n",
       "      <th>61</th>\n",
       "      <td>2</td>\n",
       "      <td>14</td>\n",
       "    </tr>\n",
       "    <tr>\n",
       "      <th>62</th>\n",
       "      <td>1</td>\n",
       "      <td>17</td>\n",
       "    </tr>\n",
       "    <tr>\n",
       "      <th>63</th>\n",
       "      <td>5</td>\n",
       "      <td>14</td>\n",
       "    </tr>\n",
       "    <tr>\n",
       "      <th>64</th>\n",
       "      <td>2</td>\n",
       "      <td>18</td>\n",
       "    </tr>\n",
       "    <tr>\n",
       "      <th>65</th>\n",
       "      <td>0</td>\n",
       "      <td>7</td>\n",
       "    </tr>\n",
       "    <tr>\n",
       "      <th>66</th>\n",
       "      <td>0</td>\n",
       "      <td>4</td>\n",
       "    </tr>\n",
       "    <tr>\n",
       "      <th>67</th>\n",
       "      <td>1</td>\n",
       "      <td>12</td>\n",
       "    </tr>\n",
       "    <tr>\n",
       "      <th>68</th>\n",
       "      <td>3</td>\n",
       "      <td>6</td>\n",
       "    </tr>\n",
       "    <tr>\n",
       "      <th>69</th>\n",
       "      <td>3</td>\n",
       "      <td>8</td>\n",
       "    </tr>\n",
       "    <tr>\n",
       "      <th>70</th>\n",
       "      <td>1</td>\n",
       "      <td>14</td>\n",
       "    </tr>\n",
       "    <tr>\n",
       "      <th>71</th>\n",
       "      <td>1</td>\n",
       "      <td>9</td>\n",
       "    </tr>\n",
       "    <tr>\n",
       "      <th>72</th>\n",
       "      <td>0</td>\n",
       "      <td>10</td>\n",
       "    </tr>\n",
       "    <tr>\n",
       "      <th>73</th>\n",
       "      <td>0</td>\n",
       "      <td>4</td>\n",
       "    </tr>\n",
       "    <tr>\n",
       "      <th>74</th>\n",
       "      <td>0</td>\n",
       "      <td>6</td>\n",
       "    </tr>\n",
       "    <tr>\n",
       "      <th>75</th>\n",
       "      <td>0</td>\n",
       "      <td>5</td>\n",
       "    </tr>\n",
       "    <tr>\n",
       "      <th>76</th>\n",
       "      <td>0</td>\n",
       "      <td>4</td>\n",
       "    </tr>\n",
       "    <tr>\n",
       "      <th>77</th>\n",
       "      <td>0</td>\n",
       "      <td>9</td>\n",
       "    </tr>\n",
       "    <tr>\n",
       "      <th>78</th>\n",
       "      <td>0</td>\n",
       "      <td>2</td>\n",
       "    </tr>\n",
       "    <tr>\n",
       "      <th>79</th>\n",
       "      <td>0</td>\n",
       "      <td>1</td>\n",
       "    </tr>\n",
       "    <tr>\n",
       "      <th>81</th>\n",
       "      <td>0</td>\n",
       "      <td>2</td>\n",
       "    </tr>\n",
       "    <tr>\n",
       "      <th>87</th>\n",
       "      <td>1</td>\n",
       "      <td>0</td>\n",
       "    </tr>\n",
       "  </tbody>\n",
       "</table>\n",
       "</div>"
      ],
      "text/plain": [
       "LUNG_CANCER  NO  YES\n",
       "AGE                 \n",
       "21            1    0\n",
       "38            0    1\n",
       "39            0    1\n",
       "44            0    2\n",
       "46            1    0\n",
       "47            1    3\n",
       "48            0    2\n",
       "49            0    3\n",
       "51            0    8\n",
       "52            0    4\n",
       "53            0    4\n",
       "54            0    8\n",
       "55            3    8\n",
       "56            2   17\n",
       "57            3    6\n",
       "58            1   12\n",
       "59            4   11\n",
       "60            3   14\n",
       "61            2   14\n",
       "62            1   17\n",
       "63            5   14\n",
       "64            2   18\n",
       "65            0    7\n",
       "66            0    4\n",
       "67            1   12\n",
       "68            3    6\n",
       "69            3    8\n",
       "70            1   14\n",
       "71            1    9\n",
       "72            0   10\n",
       "73            0    4\n",
       "74            0    6\n",
       "75            0    5\n",
       "76            0    4\n",
       "77            0    9\n",
       "78            0    2\n",
       "79            0    1\n",
       "81            0    2\n",
       "87            1    0"
      ]
     },
     "execution_count": 35,
     "metadata": {},
     "output_type": "execute_result"
    }
   ],
   "source": [
    "#Lets see the summary of age with lung cancer\n",
    "pd.crosstab(lc.AGE,lc.LUNG_CANCER)"
   ]
  },
  {
   "cell_type": "code",
   "execution_count": 36,
   "id": "a829333d",
   "metadata": {
    "ExecuteTime": {
     "end_time": "2023-11-28T19:29:53.337020Z",
     "start_time": "2023-11-28T19:29:53.290714Z"
    }
   },
   "outputs": [
    {
     "data": {
      "text/html": [
       "<div>\n",
       "<style scoped>\n",
       "    .dataframe tbody tr th:only-of-type {\n",
       "        vertical-align: middle;\n",
       "    }\n",
       "\n",
       "    .dataframe tbody tr th {\n",
       "        vertical-align: top;\n",
       "    }\n",
       "\n",
       "    .dataframe thead th {\n",
       "        text-align: right;\n",
       "    }\n",
       "</style>\n",
       "<table border=\"1\" class=\"dataframe\">\n",
       "  <thead>\n",
       "    <tr style=\"text-align: right;\">\n",
       "      <th>LUNG_CANCER</th>\n",
       "      <th>NO</th>\n",
       "      <th>YES</th>\n",
       "    </tr>\n",
       "    <tr>\n",
       "      <th>ANXIETY</th>\n",
       "      <th></th>\n",
       "      <th></th>\n",
       "    </tr>\n",
       "  </thead>\n",
       "  <tbody>\n",
       "    <tr>\n",
       "      <th>NO</th>\n",
       "      <td>27</td>\n",
       "      <td>128</td>\n",
       "    </tr>\n",
       "    <tr>\n",
       "      <th>YES</th>\n",
       "      <td>12</td>\n",
       "      <td>142</td>\n",
       "    </tr>\n",
       "  </tbody>\n",
       "</table>\n",
       "</div>"
      ],
      "text/plain": [
       "LUNG_CANCER  NO  YES\n",
       "ANXIETY             \n",
       "NO           27  128\n",
       "YES          12  142"
      ]
     },
     "execution_count": 36,
     "metadata": {},
     "output_type": "execute_result"
    }
   ],
   "source": [
    "#Lets see the summary of anxiety with lung cancer\n",
    "pd.crosstab(lc.ANXIETY,lc.LUNG_CANCER)"
   ]
  },
  {
   "cell_type": "code",
   "execution_count": 37,
   "id": "2f270322",
   "metadata": {
    "ExecuteTime": {
     "end_time": "2023-11-28T19:29:53.400196Z",
     "start_time": "2023-11-28T19:29:53.343022Z"
    }
   },
   "outputs": [
    {
     "data": {
      "text/html": [
       "<div>\n",
       "<style scoped>\n",
       "    .dataframe tbody tr th:only-of-type {\n",
       "        vertical-align: middle;\n",
       "    }\n",
       "\n",
       "    .dataframe tbody tr th {\n",
       "        vertical-align: top;\n",
       "    }\n",
       "\n",
       "    .dataframe thead th {\n",
       "        text-align: right;\n",
       "    }\n",
       "</style>\n",
       "<table border=\"1\" class=\"dataframe\">\n",
       "  <thead>\n",
       "    <tr style=\"text-align: right;\">\n",
       "      <th>LUNG_CANCER</th>\n",
       "      <th>NO</th>\n",
       "      <th>YES</th>\n",
       "    </tr>\n",
       "    <tr>\n",
       "      <th>SMOKING</th>\n",
       "      <th></th>\n",
       "      <th></th>\n",
       "    </tr>\n",
       "  </thead>\n",
       "  <tbody>\n",
       "    <tr>\n",
       "      <th>NO</th>\n",
       "      <td>20</td>\n",
       "      <td>115</td>\n",
       "    </tr>\n",
       "    <tr>\n",
       "      <th>YES</th>\n",
       "      <td>19</td>\n",
       "      <td>155</td>\n",
       "    </tr>\n",
       "  </tbody>\n",
       "</table>\n",
       "</div>"
      ],
      "text/plain": [
       "LUNG_CANCER  NO  YES\n",
       "SMOKING             \n",
       "NO           20  115\n",
       "YES          19  155"
      ]
     },
     "execution_count": 37,
     "metadata": {},
     "output_type": "execute_result"
    }
   ],
   "source": [
    "#Lets see the summary of SMOKING with lung cancer\n",
    "pd.crosstab(lc.SMOKING,lc.LUNG_CANCER)"
   ]
  },
  {
   "cell_type": "code",
   "execution_count": 38,
   "id": "58589fa5",
   "metadata": {
    "ExecuteTime": {
     "end_time": "2023-11-28T19:29:53.455000Z",
     "start_time": "2023-11-28T19:29:53.406200Z"
    }
   },
   "outputs": [
    {
     "data": {
      "text/html": [
       "<div>\n",
       "<style scoped>\n",
       "    .dataframe tbody tr th:only-of-type {\n",
       "        vertical-align: middle;\n",
       "    }\n",
       "\n",
       "    .dataframe tbody tr th {\n",
       "        vertical-align: top;\n",
       "    }\n",
       "\n",
       "    .dataframe thead th {\n",
       "        text-align: right;\n",
       "    }\n",
       "</style>\n",
       "<table border=\"1\" class=\"dataframe\">\n",
       "  <thead>\n",
       "    <tr style=\"text-align: right;\">\n",
       "      <th>YELLOW_FINGERS</th>\n",
       "      <th>NO</th>\n",
       "      <th>YES</th>\n",
       "    </tr>\n",
       "    <tr>\n",
       "      <th>SMOKING</th>\n",
       "      <th></th>\n",
       "      <th></th>\n",
       "    </tr>\n",
       "  </thead>\n",
       "  <tbody>\n",
       "    <tr>\n",
       "      <th>NO</th>\n",
       "      <td>57</td>\n",
       "      <td>78</td>\n",
       "    </tr>\n",
       "    <tr>\n",
       "      <th>YES</th>\n",
       "      <td>76</td>\n",
       "      <td>98</td>\n",
       "    </tr>\n",
       "  </tbody>\n",
       "</table>\n",
       "</div>"
      ],
      "text/plain": [
       "YELLOW_FINGERS  NO  YES\n",
       "SMOKING                \n",
       "NO              57   78\n",
       "YES             76   98"
      ]
     },
     "execution_count": 38,
     "metadata": {},
     "output_type": "execute_result"
    }
   ],
   "source": [
    "#Lets see the summary of SMOKING with YELLOW FINGER\n",
    "pd.crosstab(lc.SMOKING,lc.YELLOW_FINGERS)"
   ]
  },
  {
   "cell_type": "code",
   "execution_count": 39,
   "id": "7fb15fe8",
   "metadata": {
    "ExecuteTime": {
     "end_time": "2023-11-28T19:29:53.512266Z",
     "start_time": "2023-11-28T19:29:53.459006Z"
    }
   },
   "outputs": [
    {
     "data": {
      "text/html": [
       "<div>\n",
       "<style scoped>\n",
       "    .dataframe tbody tr th:only-of-type {\n",
       "        vertical-align: middle;\n",
       "    }\n",
       "\n",
       "    .dataframe tbody tr th {\n",
       "        vertical-align: top;\n",
       "    }\n",
       "\n",
       "    .dataframe thead th {\n",
       "        text-align: right;\n",
       "    }\n",
       "</style>\n",
       "<table border=\"1\" class=\"dataframe\">\n",
       "  <thead>\n",
       "    <tr style=\"text-align: right;\">\n",
       "      <th>LUNG_CANCER</th>\n",
       "      <th>NO</th>\n",
       "      <th>YES</th>\n",
       "    </tr>\n",
       "    <tr>\n",
       "      <th>FATIGUE</th>\n",
       "      <th></th>\n",
       "      <th></th>\n",
       "    </tr>\n",
       "  </thead>\n",
       "  <tbody>\n",
       "    <tr>\n",
       "      <th>NO</th>\n",
       "      <td>20</td>\n",
       "      <td>81</td>\n",
       "    </tr>\n",
       "    <tr>\n",
       "      <th>YES</th>\n",
       "      <td>19</td>\n",
       "      <td>189</td>\n",
       "    </tr>\n",
       "  </tbody>\n",
       "</table>\n",
       "</div>"
      ],
      "text/plain": [
       "LUNG_CANCER  NO  YES\n",
       "FATIGUE             \n",
       "NO           20   81\n",
       "YES          19  189"
      ]
     },
     "execution_count": 39,
     "metadata": {},
     "output_type": "execute_result"
    }
   ],
   "source": [
    "#Lets see the summary of fatigue with lung cancer\n",
    "\n",
    "pd.crosstab(lc[\"FATIGUE \"],lc.LUNG_CANCER)"
   ]
  },
  {
   "cell_type": "code",
   "execution_count": 40,
   "id": "a4d0fa0e",
   "metadata": {
    "ExecuteTime": {
     "end_time": "2023-11-28T19:29:53.586799Z",
     "start_time": "2023-11-28T19:29:53.519268Z"
    }
   },
   "outputs": [
    {
     "data": {
      "text/html": [
       "<div>\n",
       "<style scoped>\n",
       "    .dataframe tbody tr th:only-of-type {\n",
       "        vertical-align: middle;\n",
       "    }\n",
       "\n",
       "    .dataframe tbody tr th {\n",
       "        vertical-align: top;\n",
       "    }\n",
       "\n",
       "    .dataframe thead th {\n",
       "        text-align: right;\n",
       "    }\n",
       "</style>\n",
       "<table border=\"1\" class=\"dataframe\">\n",
       "  <thead>\n",
       "    <tr style=\"text-align: right;\">\n",
       "      <th>LUNG_CANCER</th>\n",
       "      <th>NO</th>\n",
       "      <th>YES</th>\n",
       "    </tr>\n",
       "    <tr>\n",
       "      <th>SWALLOWING DIFFICULTY</th>\n",
       "      <th></th>\n",
       "      <th></th>\n",
       "    </tr>\n",
       "  </thead>\n",
       "  <tbody>\n",
       "    <tr>\n",
       "      <th>NO</th>\n",
       "      <td>34</td>\n",
       "      <td>130</td>\n",
       "    </tr>\n",
       "    <tr>\n",
       "      <th>YES</th>\n",
       "      <td>5</td>\n",
       "      <td>140</td>\n",
       "    </tr>\n",
       "  </tbody>\n",
       "</table>\n",
       "</div>"
      ],
      "text/plain": [
       "LUNG_CANCER            NO  YES\n",
       "SWALLOWING DIFFICULTY         \n",
       "NO                     34  130\n",
       "YES                     5  140"
      ]
     },
     "execution_count": 40,
     "metadata": {},
     "output_type": "execute_result"
    }
   ],
   "source": [
    "#Lets see the summary of swallowing diff  with anxiety\n",
    "\n",
    "pd.crosstab(lc[\"SWALLOWING DIFFICULTY\"],lc.LUNG_CANCER)"
   ]
  },
  {
   "cell_type": "code",
   "execution_count": 41,
   "id": "b22709c4",
   "metadata": {
    "ExecuteTime": {
     "end_time": "2023-11-28T19:29:53.604651Z",
     "start_time": "2023-11-28T19:29:53.589802Z"
    }
   },
   "outputs": [
    {
     "data": {
      "text/plain": [
       "0      69\n",
       "1      74\n",
       "5      75\n",
       "6      52\n",
       "7      51\n",
       "       ..\n",
       "304    56\n",
       "305    70\n",
       "306    58\n",
       "307    67\n",
       "308    62\n",
       "Name: AGE, Length: 270, dtype: int64"
      ]
     },
     "execution_count": 41,
     "metadata": {},
     "output_type": "execute_result"
    }
   ],
   "source": [
    "# age of people who have cancer\n",
    "lc.AGE[lc.LUNG_CANCER=='YES']"
   ]
  },
  {
   "cell_type": "code",
   "execution_count": 42,
   "id": "0bca8ab1",
   "metadata": {
    "ExecuteTime": {
     "end_time": "2023-11-28T19:29:54.104107Z",
     "start_time": "2023-11-28T19:29:53.609654Z"
    }
   },
   "outputs": [
    {
     "data": {
      "text/plain": [
       "Text(0.5, 1.0, 'age of people who have cancer')"
      ]
     },
     "execution_count": 42,
     "metadata": {},
     "output_type": "execute_result"
    },
    {
     "data": {
      "image/png": "[encoded data removed]",
      "text/plain": [
       "<Figure size 640x480 with 1 Axes>"
      ]
     },
     "metadata": {},
     "output_type": "display_data"
    }
   ],
   "source": [
    "# Visualization of age of people who have cancer\n",
    "plt.hist(lc.AGE[lc.LUNG_CANCER=='YES'],edgecolor='black')\n",
    "plt.title('age of people who have cancer')"
   ]
  },
  {
   "cell_type": "markdown",
   "id": "7459efe8",
   "metadata": {},
   "source": [
    "From the above visualizations we can find that most of lung cancer patient are from 60-65"
   ]
  },
  {
   "cell_type": "code",
   "execution_count": 43,
   "id": "1ef8baa2",
   "metadata": {
    "ExecuteTime": {
     "end_time": "2023-11-28T19:29:54.124729Z",
     "start_time": "2023-11-28T19:29:54.108111Z"
    }
   },
   "outputs": [
    {
     "data": {
      "text/plain": [
       "0      YES\n",
       "5      YES\n",
       "6      YES\n",
       "10     YES\n",
       "11     YES\n",
       "      ... \n",
       "303    YES\n",
       "304    YES\n",
       "305    YES\n",
       "306    YES\n",
       "307    YES\n",
       "Name: COUGHING, Length: 169, dtype: object"
      ]
     },
     "execution_count": 43,
     "metadata": {},
     "output_type": "execute_result"
    }
   ],
   "source": [
    "#Coughing and have cancer\n",
    "lc.COUGHING[(lc.COUGHING == 'YES') & (lc.LUNG_CANCER == 'YES')]\n",
    "\n"
   ]
  },
  {
   "cell_type": "code",
   "execution_count": 44,
   "id": "290c621a",
   "metadata": {
    "ExecuteTime": {
     "end_time": "2023-11-28T19:29:54.164531Z",
     "start_time": "2023-11-28T19:29:54.130732Z"
    }
   },
   "outputs": [
    {
     "data": {
      "text/plain": [
       "2      YES\n",
       "4      YES\n",
       "14     YES\n",
       "27     YES\n",
       "29     YES\n",
       "61     YES\n",
       "171    YES\n",
       "207    YES\n",
       "262    YES\n",
       "272    YES\n",
       "Name: COUGHING, dtype: object"
      ]
     },
     "execution_count": 44,
     "metadata": {},
     "output_type": "execute_result"
    }
   ],
   "source": [
    "#Coughing and don't have cancer\n",
    "lc.COUGHING[(lc.COUGHING == 'YES') & (lc.LUNG_CANCER == 'NO')]\n"
   ]
  },
  {
   "cell_type": "code",
   "execution_count": 45,
   "id": "2e3248ee",
   "metadata": {
    "ExecuteTime": {
     "end_time": "2023-11-28T19:29:54.508683Z",
     "start_time": "2023-11-28T19:29:54.171534Z"
    }
   },
   "outputs": [
    {
     "data": {
      "image/png": "[encoded data removed]",
      "text/plain": [
       "<Figure size 640x480 with 1 Axes>"
      ]
     },
     "metadata": {},
     "output_type": "display_data"
    }
   ],
   "source": [
    "# Count individuals with COUGHING and LUNG_CANCER equal to 'YES' or 'NO'\n",
    "yes_count = len(lc[(lc.COUGHING == 'YES') & (lc.LUNG_CANCER == 'YES')])\n",
    "no_count = len(lc[(lc.COUGHING == 'YES') & (lc.LUNG_CANCER == 'NO')])\n",
    "\n",
    "# Create a pie chart\n",
    "plt.pie([yes_count, no_count], labels=['COUGHING and LUNG_CANCER', 'COUGHING and No LUNG_CANCER'], autopct='%1.1f%%')\n",
    "\n",
    "plt.title('Distribution of COUGHING among LUNG_CANCER categories')\n",
    "plt.show()"
   ]
  },
  {
   "cell_type": "code",
   "execution_count": 46,
   "id": "eabd33ad",
   "metadata": {
    "ExecuteTime": {
     "end_time": "2023-11-28T19:29:54.519191Z",
     "start_time": "2023-11-28T19:29:54.512687Z"
    }
   },
   "outputs": [],
   "source": [
    "## nearly 94% of lung cancer patients are coughing"
   ]
  },
  {
   "cell_type": "code",
   "execution_count": 47,
   "id": "1446e46c",
   "metadata": {
    "ExecuteTime": {
     "end_time": "2023-11-28T19:29:54.542117Z",
     "start_time": "2023-11-28T19:29:54.527193Z"
    }
   },
   "outputs": [],
   "source": [
    "LUNGCANCER12=lc.LUNG_CANCER.replace('YES',2)\n",
    "LUNGCANCER12=LUNGCANCER12.replace('NO',1)"
   ]
  },
  {
   "cell_type": "code",
   "execution_count": 48,
   "id": "abaebde8",
   "metadata": {
    "ExecuteTime": {
     "end_time": "2023-11-28T19:29:54.586607Z",
     "start_time": "2023-11-28T19:29:54.552119Z"
    }
   },
   "outputs": [
    {
     "data": {
      "text/plain": [
       "0      2\n",
       "1      2\n",
       "2      1\n",
       "3      1\n",
       "4      1\n",
       "      ..\n",
       "304    2\n",
       "305    2\n",
       "306    2\n",
       "307    2\n",
       "308    2\n",
       "Name: LUNG_CANCER, Length: 309, dtype: int64"
      ]
     },
     "execution_count": 48,
     "metadata": {},
     "output_type": "execute_result"
    }
   ],
   "source": [
    "LUNGCANCER12"
   ]
  },
  {
   "cell_type": "code",
   "execution_count": 49,
   "id": "178214c5",
   "metadata": {
    "ExecuteTime": {
     "end_time": "2023-11-28T19:29:54.606722Z",
     "start_time": "2023-11-28T19:29:54.590612Z"
    }
   },
   "outputs": [
    {
     "name": "stdout",
     "output_type": "stream",
     "text": [
      "Correlation coefficient: 0.08946457606623368\n",
      "p-value: 0.11655042930464354\n"
     ]
    }
   ],
   "source": [
    "from scipy.stats import pearsonr\n",
    "\n",
    "r, pval = pearsonr(lc.AGE, LUNGCANCER12)\n",
    "print('Correlation coefficient:', r)\n",
    "print('p-value:', pval)"
   ]
  },
  {
   "cell_type": "code",
   "execution_count": 50,
   "id": "4cc9238d",
   "metadata": {
    "ExecuteTime": {
     "end_time": "2023-11-28T19:29:54.648440Z",
     "start_time": "2023-11-28T19:29:54.611726Z"
    }
   },
   "outputs": [
    {
     "data": {
      "text/plain": [
       "0.08946457606623379"
      ]
     },
     "execution_count": 50,
     "metadata": {},
     "output_type": "execute_result"
    }
   ],
   "source": [
    "lc.AGE.corr(LUNGCANCER12)"
   ]
  },
  {
   "cell_type": "code",
   "execution_count": 51,
   "id": "8463df39",
   "metadata": {
    "ExecuteTime": {
     "end_time": "2023-11-28T19:29:55.947895Z",
     "start_time": "2023-11-28T19:29:54.655442Z"
    }
   },
   "outputs": [
    {
     "data": {
      "text/plain": [
       "<BarContainer object of 309 artists>"
      ]
     },
     "execution_count": 51,
     "metadata": {},
     "output_type": "execute_result"
    },
    {
     "data": {
      "image/png": "[encoded data removed]",
      "text/plain": [
       "<Figure size 640x480 with 1 Axes>"
      ]
     },
     "metadata": {},
     "output_type": "display_data"
    }
   ],
   "source": [
    "plt.bar(lc.AGE,LUNGCANCER12)"
   ]
  },
  {
   "cell_type": "code",
   "execution_count": 52,
   "id": "95baac46",
   "metadata": {
    "ExecuteTime": {
     "end_time": "2023-11-28T19:29:56.386271Z",
     "start_time": "2023-11-28T19:29:55.953897Z"
    }
   },
   "outputs": [
    {
     "data": {
      "text/plain": [
       "<matplotlib.collections.PathCollection at 0x18fb7794590>"
      ]
     },
     "execution_count": 52,
     "metadata": {},
     "output_type": "execute_result"
    },
    {
     "data": {
      "image/png": "[encoded data removed]",
      "text/plain": [
       "<Figure size 640x480 with 1 Axes>"
      ]
     },
     "metadata": {},
     "output_type": "display_data"
    }
   ],
   "source": [
    "plt.scatter(lc.AGE,LUNGCANCER12)"
   ]
  },
  {
   "cell_type": "code",
   "execution_count": 53,
   "id": "2a888fd6",
   "metadata": {
    "ExecuteTime": {
     "end_time": "2023-11-28T19:29:56.403018Z",
     "start_time": "2023-11-28T19:29:56.391275Z"
    }
   },
   "outputs": [],
   "source": [
    "## most lung cancer patients ages are more than 50 and less than 80"
   ]
  },
  {
   "cell_type": "code",
   "execution_count": 54,
   "id": "cc5614d9",
   "metadata": {
    "ExecuteTime": {
     "end_time": "2023-11-28T19:29:56.420009Z",
     "start_time": "2023-11-28T19:29:56.408029Z"
    }
   },
   "outputs": [],
   "source": [
    "YELLOWF12=lc['YELLOW_FINGERS'].replace('NO',1)\n",
    "YELLOWF12=YELLOWF12.replace('YES',2)"
   ]
  },
  {
   "cell_type": "code",
   "execution_count": 55,
   "id": "219e0b79",
   "metadata": {
    "ExecuteTime": {
     "end_time": "2023-11-28T19:29:56.448667Z",
     "start_time": "2023-11-28T19:29:56.432011Z"
    }
   },
   "outputs": [
    {
     "data": {
      "text/plain": [
       "0      2\n",
       "1      1\n",
       "2      1\n",
       "3      2\n",
       "4      2\n",
       "      ..\n",
       "304    1\n",
       "305    1\n",
       "306    1\n",
       "307    1\n",
       "308    1\n",
       "Name: YELLOW_FINGERS, Length: 309, dtype: int64"
      ]
     },
     "execution_count": 55,
     "metadata": {},
     "output_type": "execute_result"
    }
   ],
   "source": [
    "YELLOWF12"
   ]
  },
  {
   "cell_type": "code",
   "execution_count": 56,
   "id": "9658cc4e",
   "metadata": {
    "ExecuteTime": {
     "end_time": "2023-11-28T19:29:56.488387Z",
     "start_time": "2023-11-28T19:29:56.469666Z"
    }
   },
   "outputs": [
    {
     "name": "stdout",
     "output_type": "stream",
     "text": [
      "Correlation efficient: 0.1813389627106577\n",
      "p-value: 0.0013680379675543774\n"
     ]
    }
   ],
   "source": [
    "r, pval = pearsonr(YELLOWF12, LUNGCANCER12)\n",
    "print('Correlation efficient:', r)\n",
    "print('p-value:', pval)"
   ]
  },
  {
   "cell_type": "code",
   "execution_count": 57,
   "id": "b9aa4a6c",
   "metadata": {
    "ExecuteTime": {
     "end_time": "2023-11-28T19:29:56.890068Z",
     "start_time": "2023-11-28T19:29:56.493386Z"
    },
    "scrolled": false
   },
   "outputs": [
    {
     "data": {
      "image/png": "[encoded data removed]",
      "text/plain": [
       "<Figure size 640x480 with 1 Axes>"
      ]
     },
     "metadata": {},
     "output_type": "display_data"
    }
   ],
   "source": [
    "\n",
    "YELLOWF_lung_cancer_counts = lc.groupby(['YELLOW_FINGERS', 'LUNG_CANCER']).size().unstack().T\n",
    "\n",
    "# Plot the bar chart\n",
    "YELLOWF_lung_cancer_counts.plot(kind='bar', stacked=True)\n",
    "\n",
    "plt.xlabel('YELLOW_FINGERS')\n",
    "plt.ylabel('Count')\n",
    "plt.title('Distribution of LUNG_CANCER for different levels of YELLOW_FINGERS')\n",
    "plt.legend(title='YELLOW_FINGERS', bbox_to_anchor=(1, 1))\n",
    "plt.show()"
   ]
  },
  {
   "cell_type": "code",
   "execution_count": 73,
   "id": "ed77dfd9",
   "metadata": {
    "ExecuteTime": {
     "end_time": "2023-11-28T19:37:07.484246Z",
     "start_time": "2023-11-28T19:37:07.470699Z"
    }
   },
   "outputs": [
    {
     "name": "stdout",
     "output_type": "stream",
     "text": [
      "Number of YELLOW_FINGERS and have lung cancer:  176\n",
      "percentage of YELLOW_FINGERS and have lung cancer:  56.957928802588995 %\n",
      "Number of non-YELLOW_FINGERS and have lung cancer:  133\n",
      "percentage of non-YELLOW_FINGERS and have lung cancer:  43.042071197411005 %\n"
     ]
    }
   ],
   "source": [
    "## most of our tuples have yellow finges but nearly there is no big relation between yellow finger and lung cancer\n",
    "print('Number of YELLOW_FINGERS and have lung cancer: ',len(lc[lc.YELLOW_FINGERS=='YES']))\n",
    "print('percentage of YELLOW_FINGERS and have lung cancer: ',len(lc[lc.YELLOW_FINGERS=='YES'])/len(lc)*100,'%')\n",
    "print('Number of non-YELLOW_FINGERS and have lung cancer: ',len(lc[lc.YELLOW_FINGERS=='NO']))\n",
    "print('percentage of non-YELLOW_FINGERS and have lung cancer: ',len(lc[lc.YELLOW_FINGERS=='NO'])/len(lc)*100,'%')\n",
    "## percentage of non-YELLOW_FINGERS people who have lung cancer less than than YELLOW_FINGER people who have lung cancer"
   ]
  },
  {
   "cell_type": "code",
   "execution_count": 59,
   "id": "da5eb51a",
   "metadata": {
    "ExecuteTime": {
     "end_time": "2023-11-28T19:29:57.242433Z",
     "start_time": "2023-11-28T19:29:56.909592Z"
    }
   },
   "outputs": [
    {
     "data": {
      "image/png": "[encoded data removed]",
      "text/plain": [
       "<Figure size 640x480 with 1 Axes>"
      ]
     },
     "metadata": {},
     "output_type": "display_data"
    }
   ],
   "source": [
    "smoking_lung_cancer_counts = lc.groupby(['COUGHING', 'LUNG_CANCER']).size().unstack().T\n",
    "\n",
    "# Plot the bar chart\n",
    "smoking_lung_cancer_counts.plot(kind='bar', stacked=True)\n",
    "\n",
    "plt.xlabel('LUNG_CANCER')\n",
    "plt.ylabel('Count')\n",
    "plt.title('Distribution of LUNG_CANCER for different levels of SMOKING')\n",
    "plt.legend(title='SMOKING', bbox_to_anchor=(1, 1))\n",
    "plt.show()\n"
   ]
  },
  {
   "cell_type": "code",
   "execution_count": 70,
   "id": "8859500d",
   "metadata": {
    "ExecuteTime": {
     "end_time": "2023-11-28T19:34:43.955951Z",
     "start_time": "2023-11-28T19:34:43.943657Z"
    }
   },
   "outputs": [
    {
     "name": "stdout",
     "output_type": "stream",
     "text": [
      "Number of smokers and have lung cancer:  174\n",
      "percentage of smokers and have lung cancer:  56.310679611650485 %\n",
      "Number of non-smokers and have lung cancer:  135\n",
      "percentage of non-smokers and have lung cancer:  43.689320388349515 %\n"
     ]
    }
   ],
   "source": [
    "## most of our tuples are smokers but the relation between smoking and lung cancer in this dataset is not that big\n",
    "print('Number of smokers and have lung cancer: ',len(lc[lc.SMOKING=='YES']))\n",
    "print('percentage of smokers and have lung cancer: ',len(lc[lc.SMOKING=='YES'])/len(lc)*100,'%')\n",
    "print('Number of non-smokers and have lung cancer: ',len(lc[lc.SMOKING=='NO']))\n",
    "print('percentage of non-smokers and have lung cancer: ',len(lc[lc.SMOKING=='NO'])/len(lc)*100,'%')\n",
    "## percentage of non smokers who have lung cancer less than than smokers who have lung cancer"
   ]
  },
  {
   "cell_type": "code",
   "execution_count": 78,
   "id": "a29b7218",
   "metadata": {
    "ExecuteTime": {
     "end_time": "2023-11-28T19:41:43.857604Z",
     "start_time": "2023-11-28T19:41:43.848267Z"
    }
   },
   "outputs": [
    {
     "name": "stdout",
     "output_type": "stream",
     "text": [
      "98\n",
      "76\n"
     ]
    }
   ],
   "source": [
    "print(len(lc[(lc.YELLOW_FINGERS=='YES') & (lc.SMOKING=='YES')]))\n",
    "print(len(lc[(lc.YELLOW_FINGERS=='NO') & (lc.SMOKING=='YES')]))\n",
    "##most people who smokes have yellow fingers"
   ]
  },
  {
   "cell_type": "markdown",
   "id": "3273a565",
   "metadata": {},
   "source": [
    "# Conclusion : most important points\n",
    "- Our data is clean as we considered that the duplications may be different persons with same features\n",
    "- Clearly the lung cancer depends on the other features\n",
    "- Allergy has the highest correlation with lung cancer\n",
    "- We summarized some variables relations using crosstabs\n",
    "- We showed the distribution of age of people who have lung cancer and we found that nearly most of them are from 60 - 65\n",
    "- We visualized the relation of coughing and lung cancer using pie chart and found that most people who cough have lung cancer\n",
    "- We visualized the relation between age and lung cancer and we found that most lung cancer patients are > 50 and <80\n",
    "- We showed the corr of age and lung cancer and we found that the corr is relatively high\n",
    "- We showed the corr of yellow fingers and lung cancer and we found that the corr is not that big\n",
    "- At the end we visualized yellow fingers with lung cancer and smoking with lung cancer\n",
    "- Most people who smokes have yellow fingers"
   ]
  }
 ],
 "metadata": {
  "kernelspec": {
   "display_name": "Python 3 (ipykernel)",
   "language": "python",
   "name": "python3"
  },
  "language_info": {
   "codemirror_mode": {
    "name": "ipython",
    "version": 3
   },
   "file_extension": ".py",
   "mimetype": "text/x-python",
   "name": "python",
   "nbconvert_exporter": "python",
   "pygments_lexer": "ipython3",
   "version": "3.11.4"
  }
 },
 "nbformat": 4,
 "nbformat_minor": 5
}
