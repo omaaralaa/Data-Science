{
 "cells": [
  {
   "cell_type": "markdown",
   "id": "823557e7",
   "metadata": {},
   "source": [
    "title : (ibm-datascience)"
   ]
  },
  {
   "cell_type": "markdown",
   "id": "89cd0966",
   "metadata": {},
   "source": [
    "introduction : this the jupyter notebook for ibm data science course "
   ]
  },
  {
   "cell_type": "markdown",
   "id": "79d1738b",
   "metadata": {},
   "source": [
    "data science languages : -Python -R -SQL -Java -Julia -Scala -C/C++ -JavaScript -Swift -Go -MATLAB"
   ]
  },
  {
   "cell_type": "markdown",
   "id": "27dcac3e",
   "metadata": {},
   "source": [
    "data science libraries : pandas , numpy , matplotlib , scipy , sci-kit learn , tensorflow"
   ]
  },
  {
   "cell_type": "markdown",
   "id": "6325aecf",
   "metadata": {
    "ExecuteTime": {
     "end_time": "2023-08-05T17:54:45.345473Z",
     "start_time": "2023-08-05T17:54:45.328486Z"
    }
   },
   "source": [
    "data science tools : jupyter notebook , google collab , github , ibm watson studio , sql , db2"
   ]
  },
  {
   "cell_type": "markdown",
   "id": "f8a43ad0",
   "metadata": {},
   "source": [
    "arithmetic expression examples : + - * / "
   ]
  },
  {
   "cell_type": "code",
   "execution_count": 3,
   "id": "f3fa5b78",
   "metadata": {
    "ExecuteTime": {
     "end_time": "2023-08-05T17:57:38.616405Z",
     "start_time": "2023-08-05T17:57:38.602411Z"
    }
   },
   "outputs": [
    {
     "name": "stdout",
     "output_type": "stream",
     "text": [
      "10\n",
      "24\n"
     ]
    }
   ],
   "source": [
    "a = 6\n",
    "b = 4 \n",
    "print(a+b)\n",
    "print(a*b)"
   ]
  },
  {
   "cell_type": "code",
   "execution_count": 4,
   "id": "1fff3d31",
   "metadata": {
    "ExecuteTime": {
     "end_time": "2023-08-05T17:58:21.825822Z",
     "start_time": "2023-08-05T17:58:21.809831Z"
    }
   },
   "outputs": [
    {
     "name": "stdout",
     "output_type": "stream",
     "text": [
      "6.666666666666667\n"
     ]
    }
   ],
   "source": [
    "minutes = 400\n",
    "hours = minutes/60\n",
    "print(hours)"
   ]
  },
  {
   "cell_type": "markdown",
   "id": "e28ab652",
   "metadata": {},
   "source": [
    "objectives : to pass the exercise and go to the next week"
   ]
  },
  {
   "cell_type": "markdown",
   "id": "ee9990ae",
   "metadata": {},
   "source": [
    "author name : omar alaa eldein mohamed"
   ]
  },
  {
   "cell_type": "code",
   "execution_count": null,
   "id": "016f8935",
   "metadata": {},
   "outputs": [],
   "source": []
  }
 ],
 "metadata": {
  "kernelspec": {
   "display_name": "Python 3 (ipykernel)",
   "language": "python",
   "name": "python3"
  },
  "language_info": {
   "codemirror_mode": {
    "name": "ipython",
    "version": 3
   },
   "file_extension": ".py",
   "mimetype": "text/x-python",
   "name": "python",
   "nbconvert_exporter": "python",
   "pygments_lexer": "ipython3",
   "version": "3.10.9"
  }
 },
 "nbformat": 4,
 "nbformat_minor": 5
}
